{
  "nbformat": 4,
  "nbformat_minor": 0,
  "metadata": {
    "colab": {
      "name": "PR Assignment 5.ipynb",
      "provenance": [],
      "collapsed_sections": []
    },
    "kernelspec": {
      "name": "python3",
      "display_name": "Python 3"
    },
    "language_info": {
      "name": "python"
    },
    "accelerator": "TPU"
  },
  "cells": [
    {
      "cell_type": "code",
      "metadata": {
        "colab": {
          "base_uri": "https://localhost:8080/",
          "height": 0
        },
        "id": "T9Z-x9R5rsFs",
        "outputId": "0bc82b2b-49dd-4661-de2d-be804e790f92"
      },
      "source": [
        "from google.colab import drive\n",
        "drive.mount('/content/drive')"
      ],
      "execution_count": 6,
      "outputs": [
        {
          "output_type": "stream",
          "text": [
            "Drive already mounted at /content/drive; to attempt to forcibly remount, call drive.mount(\"/content/drive\", force_remount=True).\n"
          ],
          "name": "stdout"
        }
      ]
    },
    {
      "cell_type": "code",
      "metadata": {
        "id": "x2_thaO2sZK7"
      },
      "source": [
        "from math import *\n",
        "import random\n",
        "from copy import deepcopy\n",
        "import numpy as np\n"
      ],
      "execution_count": 7,
      "outputs": []
    },
    {
      "cell_type": "code",
      "metadata": {
        "id": "rw0mUK2fscL1"
      },
      "source": [
        "\n",
        "def argmin(values):\n",
        "    return min(enumerate(values), key=lambda x: x[1])[0]\n",
        "def avg(values):\n",
        "    return float(sum(values))/len(values)"
      ],
      "execution_count": 8,
      "outputs": []
    },
    {
      "cell_type": "code",
      "metadata": {
        "id": "YE3JLBsJserN"
      },
      "source": [
        "def readfile(filename):\n",
        "    data = []\n",
        "    with open(filename, 'r') as f:\n",
        "        data = f.readlines()\n",
        "    data = [tuple(map(float, line.split(','))) for line in data]\n",
        "    return data"
      ],
      "execution_count": 9,
      "outputs": []
    },
    {
      "cell_type": "code",
      "metadata": {
        "id": "rAV1moozsyib"
      },
      "source": [
        "def distance_euclidean(p1, p2):\n",
        "    distance = None\n",
        "    dist = [(x1-x2)**2 for x1, x2 in zip(p1, p2)]\n",
        "    distance = sqrt(sum(dist))\n",
        "    return distance\n",
        "\n",
        "def distance_manhattan(p1, p2):\n",
        "    distance = None\n",
        "    distance = sum([abs(x1-x2) for x1, x2 in zip(p1, p2)])\n",
        "    return distance\n"
      ],
      "execution_count": 10,
      "outputs": []
    },
    {
      "cell_type": "code",
      "metadata": {
        "id": "AALCPRAEs248"
      },
      "source": [
        "def initialization_kmeansplusplus(data, distance, k):\n",
        "\n",
        "    means = []\n",
        "    # The first centroid is randomly selected\n",
        "    means.append(random.sample(data, 1)[0])\n",
        "    # Current minimum distance squared from any centroid\n",
        "    # The probability with which to select a point will be proportional to this\n",
        "    min_dist = [float('Inf')] * len(data)\n",
        "    \n",
        "    # Going over means; adding 1 new mean in each loop\n",
        "    for i in range(k-1):\n",
        "        # Updating minimum for all points\n",
        "        for j in range(len(data)):\n",
        "            # Calculate minimum distance\n",
        "            d = distance(means[i], data[j])\n",
        "            # Squaring the distance since the probability will be proportional to this.\n",
        "            d = d*d\n",
        "            if d < min_dist[j]:\n",
        "                min_dist[j] = d  \n",
        "        \n",
        "        # Normalising min_dist array to get an array of probabilities\n",
        "        s = sum(min_dist)\n",
        "        prob = [i/s for i in min_dist]\n",
        "        # Choose a random index with probabilities proportional to min_dist\n",
        "        idx = np.random.choice(len(data), 1, p=prob)[0]\n",
        "        # Append the chosen point to means\n",
        "        means.append(data[idx])\n",
        "    assert len(means) == k\n",
        "    return means\n"
      ],
      "execution_count": 11,
      "outputs": []
    },
    {
      "cell_type": "code",
      "metadata": {
        "id": "xdspNTD2s7_p"
      },
      "source": [
        "def iteration_one(data, means, distance):\n",
        "    new_means = []\n",
        "    k = len(means)\n",
        "    dimension = len(data[0])\n",
        "    new_means = [tuple(0 for i in range(dimension))] * k\n",
        "    counts = [0.0] * k\n",
        "    for point in data:\n",
        "        closest = 0\n",
        "        min_dist = float('Inf')\n",
        "        for i in range(k):\n",
        "            d = distance(point, means[i]) \n",
        "            if d < min_dist:\n",
        "                min_dist = d\n",
        "                closest = i\n",
        "        new_means[closest] = tuple([sum(x) for x in zip(new_means[closest], point)])\n",
        "        counts[closest] += 1\n",
        "\n",
        "    for i in range(k):\n",
        "        # import pdb; pdb.set_trace()\n",
        "        if counts[i] == 0:\n",
        "            new_means[i] = means[i]\n",
        "        else:\n",
        "            new_means[i] = tuple(t/counts[i] for t in new_means[i])\n",
        "    return new_means\n",
        "\n",
        "def hasconverged(old_means, new_means, epsilon=1e-1):\n",
        "    converged = False\n",
        "\n",
        "    for i in range(len(old_means)):\n",
        "        p = [abs(x1-x2) > epsilon for x1, x2 in zip(old_means[i], new_means[i])]\n",
        "        if True in p:\n",
        "            return False\n",
        "    converged = True\n",
        "    return converged\n"
      ],
      "execution_count": 12,
      "outputs": []
    },
    {
      "cell_type": "code",
      "metadata": {
        "id": "zW2g6tMTtAzv"
      },
      "source": [
        "def iteration_many(data, means, distance, maxiter, epsilon=1e-1):\n",
        "    all_means = []\n",
        "    all_means.append(means)\n",
        "\n",
        "    means_copy = deepcopy(means)\n",
        "    for i in range(maxiter):\n",
        "        new_means = iteration_one(data, means_copy, distance)\n",
        "        all_means.append(new_means)\n",
        "        if hasconverged(means_copy, new_means, epsilon):\n",
        "            break\n",
        "        means_copy = new_means\n",
        "\n",
        "    return all_means\n"
      ],
      "execution_count": 13,
      "outputs": []
    },
    {
      "cell_type": "code",
      "metadata": {
        "id": "xCQNjm5etD5S"
      },
      "source": [
        "def performance_SSE(data, means, distance):\n",
        "    sse = 0\n",
        "\n",
        "    for point in data:\n",
        "        min_dist = float('Inf')\n",
        "        for i in range(len(means)):\n",
        "            d = distance(point, means[i])\n",
        "            if d < min_dist:\n",
        "                min_dist = d\n",
        "        sse += min_dist*min_dist\n",
        "    return sse\n"
      ],
      "execution_count": 14,
      "outputs": []
    },
    {
      "cell_type": "code",
      "metadata": {
        "id": "hxwDTtPUS1ZB",
        "colab": {
          "base_uri": "https://localhost:8080/",
          "height": 0
        },
        "outputId": "dee059bc-90b8-4a0f-8858-8d7391197a21"
      },
      "source": [
        "import sys\n",
        "import argparse\n",
        "import matplotlib.pyplot as plt\n",
        "from itertools import cycle\n",
        "from pprint import pprint as pprint\n",
        "\n",
        "\n",
        "def visualize_data(data, all_means, args):\n",
        "    print('Visualizing...')\n",
        "    means = all_means[-1]\n",
        "    k = args['k']\n",
        "    distance = args['dist']\n",
        "    clusters = [[] for _ in range(k)]\n",
        "    for point in data:\n",
        "        dlist = [distance(point, center) for center in means]\n",
        "        clusters[argmin(dlist)].append(point)\n",
        "\n",
        "    # plot each point of each cluster\n",
        "    colors = cycle('rgbwkcmy')\n",
        "\n",
        "    for c, points in zip(colors, clusters):\n",
        "        x = [p[0] for p in points]\n",
        "        y = [p[1] for p in points]\n",
        "        plt.scatter(x,y, c = c)\n",
        "\n",
        "    # plot each cluster centroid\n",
        "    colors = cycle('krrkgkgr')\n",
        "    colors = cycle('rgbkkcmy')\n",
        "\n",
        "    for c, clusterindex in zip(colors, range(k)):\n",
        "        x = [iteration[clusterindex][0] for iteration in all_means]\n",
        "        y = [iteration[clusterindex][1] for iteration in all_means]\n",
        "        plt.plot(x,y, '-x', c = c, linewidth='1', mew=15, ms=2)\n",
        "    plt.axis('equal')\n",
        "    plt.show()\n",
        "\n",
        "def visualize_performance(data, all_means, distance):\n",
        "\n",
        "    errors = [performance_SSE(data, means, distance) for means in all_means]\n",
        "    plt.plot(range(len(all_means)), errors)\n",
        "    plt.title('Performance plot')\n",
        "    plt.xlabel('Iteration')\n",
        "    plt.ylabel('Sum Squared Error')\n",
        "    plt.show()\n",
        "\n",
        "\n",
        "if __name__ == '__main__':\n",
        "    args={}\n",
        "    args['input'] = '/content/drive/MyDrive/1000.csv'\n",
        "    args['epsilon'] = 1e-2\n",
        "    args['k'] = 5\n",
        "    args['maxiter'] = 10000\n",
        "    \n",
        "    args['init'] = initialization_kmeansplusplus\n",
        "    \n",
        "    #args['dist'] = distance_manhattan\n",
        "    args['dist'] = distance_euclidean\n",
        "    \n",
        "    args['numexperiments'] = 25\n",
        "\n",
        "    # Read data\n",
        "    data = readfile(args['input'])\n",
        "    print('Number of points in input data: {}\\n'.format(len(data)))\n",
        "    verbose = False\n",
        "\n",
        "    totalSSE = 0\n",
        "    totaliter = 0\n",
        "\n",
        "    for experiment in range(args['numexperiments']):\n",
        "        print('Experiment: {}'.format(experiment+1))\n",
        "        random.seed(0 + experiment)\n",
        "        print('Seed: {}'.format(0 + experiment))\n",
        "\n",
        "        # Initialize means\n",
        "        means = initialization_kmeansplusplus(data, args['dist'], args['k'])\n",
        "\n",
        "        if verbose:\n",
        "            print('Means initialized to:')\n",
        "            print(means)\n",
        "            print('')\n",
        "\n",
        "        # Run k-means clustering\n",
        "        all_means = iteration_many(data, means, args['dist'], args['maxiter'], args['epsilon'])\n",
        "\n",
        "        SSE = performance_SSE(data, all_means[-1], args['dist'])\n",
        "        totalSSE += SSE\n",
        "        totaliter += len(all_means)-1\n",
        "        print('Sum Squared Error: {}'.format(SSE))\n",
        "        print('Number of iterations till termination: {}'.format(len(all_means)-1))\n",
        "        print('Convergence achieved: {}'.format(hasconverged(all_means[-1], all_means[-2])))\n",
        "\n",
        "\n",
        "        if verbose:\n",
        "            print('\\nFinal means:')\n",
        "            print(all_means[-1]) \n",
        "            print('')\n",
        "            \n",
        "    print('\\n\\nAverage SSE: {}'.format(float(totalSSE)/args['numexperiments']))\n",
        "    print('Average number of iterations: {}'.format(float(totaliter)/args['numexperiments']))\n",
        "\n",
        "    if args['numexperiments'] == 1:\n",
        "        # If the data is 2-d and small, visualize it.\n",
        "        if len(data) < 5000 and len(data[0]) == 2:\n",
        "            visualize_data(data, all_means, args)\n",
        "\n",
        "        visualize_performance(data, all_means, args['dist'])\n"
      ],
      "execution_count": 15,
      "outputs": [
        {
          "output_type": "stream",
          "text": [
            "Number of points in input data: 1000\n",
            "\n",
            "Experiment: 1\n",
            "Seed: 0\n",
            "Sum Squared Error: 19662827.96077675\n",
            "Number of iterations till termination: 3\n",
            "Convergence achieved: True\n",
            "Experiment: 2\n",
            "Seed: 1\n",
            "Sum Squared Error: 19480067.46824965\n",
            "Number of iterations till termination: 3\n",
            "Convergence achieved: True\n",
            "Experiment: 3\n",
            "Seed: 2\n",
            "Sum Squared Error: 19314858.4227151\n",
            "Number of iterations till termination: 2\n",
            "Convergence achieved: True\n",
            "Experiment: 4\n",
            "Seed: 3\n",
            "Sum Squared Error: 18769929.8359221\n",
            "Number of iterations till termination: 2\n",
            "Convergence achieved: True\n",
            "Experiment: 5\n",
            "Seed: 4\n",
            "Sum Squared Error: 19695954.78169606\n",
            "Number of iterations till termination: 3\n",
            "Convergence achieved: True\n",
            "Experiment: 6\n",
            "Seed: 5\n",
            "Sum Squared Error: 19077099.796293955\n",
            "Number of iterations till termination: 3\n",
            "Convergence achieved: True\n",
            "Experiment: 7\n",
            "Seed: 6\n",
            "Sum Squared Error: 19752902.962734204\n",
            "Number of iterations till termination: 3\n",
            "Convergence achieved: True\n",
            "Experiment: 8\n",
            "Seed: 7\n",
            "Sum Squared Error: 19469294.968686797\n",
            "Number of iterations till termination: 3\n",
            "Convergence achieved: True\n",
            "Experiment: 9\n",
            "Seed: 8\n",
            "Sum Squared Error: 19442539.742795803\n",
            "Number of iterations till termination: 4\n",
            "Convergence achieved: True\n",
            "Experiment: 10\n",
            "Seed: 9\n",
            "Sum Squared Error: 19652920.569873035\n",
            "Number of iterations till termination: 3\n",
            "Convergence achieved: True\n",
            "Experiment: 11\n",
            "Seed: 10\n",
            "Sum Squared Error: 19469294.968686797\n",
            "Number of iterations till termination: 3\n",
            "Convergence achieved: True\n",
            "Experiment: 12\n",
            "Seed: 11\n",
            "Sum Squared Error: 18682048.043955028\n",
            "Number of iterations till termination: 2\n",
            "Convergence achieved: True\n",
            "Experiment: 13\n",
            "Seed: 12\n",
            "Sum Squared Error: 18891616.525126487\n",
            "Number of iterations till termination: 3\n",
            "Convergence achieved: True\n",
            "Experiment: 14\n",
            "Seed: 13\n",
            "Sum Squared Error: 20117894.762514807\n",
            "Number of iterations till termination: 3\n",
            "Convergence achieved: True\n",
            "Experiment: 15\n",
            "Seed: 14\n",
            "Sum Squared Error: 18880947.531438198\n",
            "Number of iterations till termination: 2\n",
            "Convergence achieved: True\n",
            "Experiment: 16\n",
            "Seed: 15\n",
            "Sum Squared Error: 18711098.74980458\n",
            "Number of iterations till termination: 3\n",
            "Convergence achieved: True\n",
            "Experiment: 17\n",
            "Seed: 16\n",
            "Sum Squared Error: 18758693.322501313\n",
            "Number of iterations till termination: 3\n",
            "Convergence achieved: True\n",
            "Experiment: 18\n",
            "Seed: 17\n",
            "Sum Squared Error: 19469294.968686797\n",
            "Number of iterations till termination: 2\n",
            "Convergence achieved: True\n",
            "Experiment: 19\n",
            "Seed: 18\n",
            "Sum Squared Error: 18598968.43088807\n",
            "Number of iterations till termination: 3\n",
            "Convergence achieved: True\n",
            "Experiment: 20\n",
            "Seed: 19\n",
            "Sum Squared Error: 18647046.41364171\n",
            "Number of iterations till termination: 3\n",
            "Convergence achieved: True\n",
            "Experiment: 21\n",
            "Seed: 20\n",
            "Sum Squared Error: 18137458.591950994\n",
            "Number of iterations till termination: 2\n",
            "Convergence achieved: True\n",
            "Experiment: 22\n",
            "Seed: 21\n",
            "Sum Squared Error: 20081236.6407341\n",
            "Number of iterations till termination: 3\n",
            "Convergence achieved: True\n",
            "Experiment: 23\n",
            "Seed: 22\n",
            "Sum Squared Error: 19314858.4227151\n",
            "Number of iterations till termination: 3\n",
            "Convergence achieved: True\n",
            "Experiment: 24\n",
            "Seed: 23\n",
            "Sum Squared Error: 20211932.95256746\n",
            "Number of iterations till termination: 2\n",
            "Convergence achieved: True\n",
            "Experiment: 25\n",
            "Seed: 24\n",
            "Sum Squared Error: 21936353.23550622\n",
            "Number of iterations till termination: 3\n",
            "Convergence achieved: True\n",
            "\n",
            "\n",
            "Average SSE: 19369085.60281844\n",
            "Average number of iterations: 2.76\n"
          ],
          "name": "stdout"
        }
      ]
    },
    {
      "cell_type": "markdown",
      "metadata": {
        "id": "58XU9evv_QNA"
      },
      "source": [
        "Task 2\n",
        "========\n"
      ]
    },
    {
      "cell_type": "markdown",
      "metadata": {
        "id": "lEtdBp_2_TJH"
      },
      "source": [
        "Dataset     |  Average SSE      | Average Iterations\n",
        "---\n",
        "   100.csv  |  8472.63311469    |     2.03\n",
        "---\n",
        "  1000.csv  |  19324991.4686    |     3.08\n",
        "---  \n",
        "  10000.csv |  20785276.2072    |     5.3\n",
        "---"
      ]
    },
    {
      "cell_type": "markdown",
      "metadata": {
        "id": "abGQBoUxCQgk"
      },
      "source": [
        "No the SSE never increases in the k-means algorithm. In fact it can be proven that it will never increase. The decrease happens at two points, one is when we change the label of the points according to the centroid closest to it. This means that the closest centroid distance for every point that get relabelled has decreased, hence overall SSE has to decrease. Now the second step is that we get new means by making them the centroid of the current clusters. We know that the sum of squared distance is minimum from the mean (centroid), so again the SSE will decrease. And this process repeats.\n",
        "\n",
        "The answer the same for both Euclidean and Manhattan distances\n",
        "\n",
        "Euclidean \n",
        "![euc.JPG](data:image/jpeg;base64,/9j/4AAQSkZJRgABAQEAYABgAAD/4RDgRXhpZgAATU0AKgAAAAgABAE7AAIAAAAHAAAISodpAAQAAAABAAAIUpydAAEAAAAOAAAQyuocAAcAAAgMAAAAPgAAAAAc6gAAAAgAAAAAAAAAAAAAAAAAAAAAAAAAAAAAAAAAAAAAAAAAAAAAAAAAAAAAAAAAAAAAAAAAAAAAAAAAAAAAAAAAAAAAAAAAAAAAAAAAAAAAAAAAAAAAAAAAAAAAAAAAAAAAAAAAAAAAAAAAAAAAAAAAAAAAAAAAAAAAAAAAAAAAAAAAAAAAAAAAAAAAAAAAAAAAAAAAAAAAAAAAAAAAAAAAAAAAAAAAAAAAAAAAAAAAAAAAAAAAAAAAAAAAAAAAAAAAAAAAAAAAAAAAAAAAAAAAAAAAAAAAAAAAAAAAAAAAAAAAAAAAAAAAAAAAAAAAAAAAAAAAAAAAAAAAAAAAAAAAAAAAAAAAAAAAAAAAAAAAAAAAAAAAAAAAAAAAAAAAAAAAAAAAAAAAAAAAAAAAAAAAAAAAAAAAAAAAAAAAAAAAAAAAAAAAAAAAAAAAAAAAAAAAAAAAAAAAAAAAAAAAAAAAAAAAAAAAAAAAAAAAAAAAAAAAAAAAAAAAAAAAAAAAAAAAAAAAAAAAAAAAAAAAAAAAAAAAAAAAAAAAAAAAAAAAAAAAAAAAAAAAAAAAAAAAAAAAAAAAAAAAAAAAAAAAAAAAAAAAAAAAAAAAAAAAAAAAAAAAAAAAAAAAAAAAAAAAAAAAAAAAAAAAAAAAAAAAAAAAAAAAAAAAAAAAAAAAAAAAAAAAAAAAAAAAAAAAAAAAAAAAAAAAAAAAAAAAAAAAAAAAAAAAAAAAAAAAAAAAAAAAAAAAAAAAAAAAAAAAAAAAAAAAAAAAAAAAAAAAAAAAAAAAAAAAAAAAAAAAAAAAAAAAAAAAAAAAAAAAAAAAAAAAAAAAAAAAAAAAAAAAAAAAAAAAAAAAAAAAAAAAAAAAAAAAAAAAAAAAAAAAAAAAAAAAAAAAAAAAAAAAAAAAAAAAAAAAAAAAAAAAAAAAAAAAAAAAAAAAAAAAAAAAAAAAAAAAAAAAAAAAAAAAAAAAAAAAAAAAAAAAAAAAAAAAAAAAAAAAAAAAAAAAAAAAAAAAAAAAAAAAAAAAAAAAAAAAAAAAAAAAAAAAAAAAAAAAAAAAAAAAAAAAAAAAAAAAAAAAAAAAAAAAAAAAAAAAAAAAAAAAAAAAAAAAAAAAAAAAAAAAAAAAAAAAAAAAAAAAAAAAAAAAAAAAAAAAAAAAAAAAAAAAAAAAAAAAAAAAAAAAAAAAAAAAAAAAAAAAAAAAAAAAAAAAAAAAAAAAAAAAAAAAAAAAAAAAAAAAAAAAAAAAAAAAAAAAAAAAAAAAAAAAAAAAAAAAAAAAAAAAAAAAAAAAAAAAAAAAAAAAAAAAAAAAAAAAAAAAAAAAAAAAAAAAAAAAAAAAAAAAAAAAAAAAAAAAAAAAAAAAAAAAAAAAAAAAAAAAAAAAAAAAAAAAAAAAAAAAAAAAAAAAAAAAAAAAAAAAAAAAAAAAAAAAAAAAAAAAAAAAAAAAAAAAAAAAAAAAAAAAAAAAAAAAAAAAAAAAAAAAAAAAAAAAAAAAAAAAAAAAAAAAAAAAAAAAAAAAAAAAAAAAAAAAAAAAAAAAAAAAAAAAAAAAAAAAAAAAAAAAAAAAAAAAAAAAAAAAAAAAAAAAAAAAAAAAAAAAAAAAAAAAAAAAAAAAAAAAAAAAAAAAAAAAAAAAAAAAAAAAAAAAAAAAAAAAAAAAAAAAAAAAAAAAAAAAAAAAAAAAAAAAAAAAAAAAAAAAAAAAAAAAAAAAAAAAAAAAAAAAAAAAAAAAAAAAAAAAAAAAAAAAAAAAAAAAAAAAAAAAAAAAAAAAAAAAAAAAAAAAAAAAAAAAAAAAAAAAAAAAAAAAAAAAAAAAAAAAAAAAAAAAAAAAAAAAAAAAAAAAAAAAAAAAAAAAAAAAAAAAAAAAAAAAAAAAAAAAAAAAAAAAAAAAAAAAAAAAAAAAAAAAAAAAAAAAAAAAAAAAAAAAAAAAAAAAAAAAAAAAAAAAAAAAAAAAAAAAAAAAAAAAAAAAAAAAAAAAAAAAAAAAAAAAAAAAAAAAAAAAAAAAAAAAAAAAAAAAAAAAAAAAAAAAAAAAAAAAAAAAAAAAAAAAAAAAAAAAAAAAAAAAAAAAAAAAAAAAAAAAAAAAAAAAAAAAAAAAAAAAAAAAAAAAAAAAAAAAAAAAAAAAAAAAAAAAAAAAAAAAAAAAAAAAAAAAAAAAAAAAAAAAAAAAAAAAAAAAAAAAAAAAAAAAAAAAAAAAAAAAAAAAAAAAAAAAAAAAAAAAAAAAAAAAAAAAAAAAAAAAAAAAAAAAAAAAAAAAAAAAAAAAAAAAAAAAAAAAAAAAAAAAAAAAAAAAAAAAAAAAAAAAAAAAAAAAAAAAAAAAAAAAAAAAAAAAAAAAAAAAAAAAAAAAAAAAAAAAAAAAAAAAAAAAAAAAAAAAAAAAAAAAAAAAAAAAAAAAAAAAAAAAAAAAAAAAAAAAAAAAAAAAAAAAAAAAAAAAAAAAAAAAAAAAAAAAAAAAAAAAAAAAAAAAAAAAAAAAAAAAAAAAAAAAAAAAAAAAAAAAAAAAAAAAAAAAAAAAAAAAAAAAAAAAAAAAAAAAAAAAAAAAAAAAAAAAAAAAAAAAAAAAAAAAAAAAAAAAAAAAAAAAAAAAAAAAAAAAAAAAAAAAAAAAAAAAAAAAAAAAAAAAAAAAAAAAAAAAAAAAAAAAAAAAAAAAAAAAAAAAAAAAAAAAAAAAAAAAAAAAAAAAAAAAAAAAAAAAAAAAAAAAAAAAAAAAAAAAAAAAAAAAAAAAAAAAAAAAAExlbm92bwAAAAWQAwACAAAAFAAAEKCQBAACAAAAFAAAELSSkQACAAAAAzIwAACSkgACAAAAAzIwAADqHAAHAAAIDAAACJQAAAAAHOoAAAAIAAAAAAAAAAAAAAAAAAAAAAAAAAAAAAAAAAAAAAAAAAAAAAAAAAAAAAAAAAAAAAAAAAAAAAAAAAAAAAAAAAAAAAAAAAAAAAAAAAAAAAAAAAAAAAAAAAAAAAAAAAAAAAAAAAAAAAAAAAAAAAAAAAAAAAAAAAAAAAAAAAAAAAAAAAAAAAAAAAAAAAAAAAAAAAAAAAAAAAAAAAAAAAAAAAAAAAAAAAAAAAAAAAAAAAAAAAAAAAAAAAAAAAAAAAAAAAAAAAAAAAAAAAAAAAAAAAAAAAAAAAAAAAAAAAAAAAAAAAAAAAAAAAAAAAAAAAAAAAAAAAAAAAAAAAAAAAAAAAAAAAAAAAAAAAAAAAAAAAAAAAAAAAAAAAAAAAAAAAAAAAAAAAAAAAAAAAAAAAAAAAAAAAAAAAAAAAAAAAAAAAAAAAAAAAAAAAAAAAAAAAAAAAAAAAAAAAAAAAAAAAAAAAAAAAAAAAAAAAAAAAAAAAAAAAAAAAAAAAAAAAAAAAAAAAAAAAAAAAAAAAAAAAAAAAAAAAAAAAAAAAAAAAAAAAAAAAAAAAAAAAAAAAAAAAAAAAAAAAAAAAAAAAAAAAAAAAAAAAAAAAAAAAAAAAAAAAAAAAAAAAAAAAAAAAAAAAAAAAAAAAAAAAAAAAAAAAAAAAAAAAAAAAAAAAAAAAAAAAAAAAAAAAAAAAAAAAAAAAAAAAAAAAAAAAAAAAAAAAAAAAAAAAAAAAAAAAAAAAAAAAAAAAAAAAAAAAAAAAAAAAAAAAAAAAAAAAAAAAAAAAAAAAAAAAAAAAAAAAAAAAAAAAAAAAAAAAAAAAAAAAAAAAAAAAAAAAAAAAAAAAAAAAAAAAAAAAAAAAAAAAAAAAAAAAAAAAAAAAAAAAAAAAAAAAAAAAAAAAAAAAAAAAAAAAAAAAAAAAAAAAAAAAAAAAAAAAAAAAAAAAAAAAAAAAAAAAAAAAAAAAAAAAAAAAAAAAAAAAAAAAAAAAAAAAAAAAAAAAAAAAAAAAAAAAAAAAAAAAAAAAAAAAAAAAAAAAAAAAAAAAAAAAAAAAAAAAAAAAAAAAAAAAAAAAAAAAAAAAAAAAAAAAAAAAAAAAAAAAAAAAAAAAAAAAAAAAAAAAAAAAAAAAAAAAAAAAAAAAAAAAAAAAAAAAAAAAAAAAAAAAAAAAAAAAAAAAAAAAAAAAAAAAAAAAAAAAAAAAAAAAAAAAAAAAAAAAAAAAAAAAAAAAAAAAAAAAAAAAAAAAAAAAAAAAAAAAAAAAAAAAAAAAAAAAAAAAAAAAAAAAAAAAAAAAAAAAAAAAAAAAAAAAAAAAAAAAAAAAAAAAAAAAAAAAAAAAAAAAAAAAAAAAAAAAAAAAAAAAAAAAAAAAAAAAAAAAAAAAAAAAAAAAAAAAAAAAAAAAAAAAAAAAAAAAAAAAAAAAAAAAAAAAAAAAAAAAAAAAAAAAAAAAAAAAAAAAAAAAAAAAAAAAAAAAAAAAAAAAAAAAAAAAAAAAAAAAAAAAAAAAAAAAAAAAAAAAAAAAAAAAAAAAAAAAAAAAAAAAAAAAAAAAAAAAAAAAAAAAAAAAAAAAAAAAAAAAAAAAAAAAAAAAAAAAAAAAAAAAAAAAAAAAAAAAAAAAAAAAAAAAAAAAAAAAAAAAAAAAAAAAAAAAAAAAAAAAAAAAAAAAAAAAAAAAAAAAAAAAAAAAAAAAAAAAAAAAAAAAAAAAAAAAAAAAAAAAAAAAAAAAAAAAAAAAAAAAAAAAAAAAAAAAAAAAAAAAAAAAAAAAAAAAAAAAAAAAAAAAAAAAAAAAAAAAAAAAAAAAAAAAAAAAAAAAAAAAAAAAAAAAAAAAAAAAAAAAAAAAAAAAAAAAAAAAAAAAAAAAAAAAAAAAAAAAAAAAAAAAAAAAAAAAAAAAAAAAAAAAAAAAAAAAAAAAAAAAAAAAAAAAAAAAAAAAAAAAAAAAAAAAAAAAAAAAAAAAAAAAAAAAAAAAAAAAAAAAAAAAAAAAAAAAAAAAAAAAAAAAAAAAAAAAAAAAAAAAAAAAAAAAAAAAAAAAAAAAAAAAAAAAAAAAAAAAAAAAAAAAAAAAAAAAAAAAAAAAAAAAAAAAAAAAAAAAAAAAAAAAAAAAAAAAAAAAAAAAAAAAAAAAAAAAAAAAAAAAAAAAAAAAAAAAAAAAAAAAAAAAAAAAAAAAAAAAAAAAAAAAAAAAAAAAAAAAAAAAAAAAAAAAAAAAAAAAAAAAAAAAAAAAAAAAAAAAAAAAAAAAAAAAAAAAAAAAAAAAAAAAAAAAAAAAAAAAAAAAAAAAAAAAAAAAAAAAAAAAAAAAAAAAAAAAAAAAAAAAAAAAAAAAAAAAAAAAAAAAAAAAAAAAAAAAAAAAAAAAAAAAAAAAAAAAAAAAAAAAAAAAAAAAAAAAAAAAAAAAAAAAAAAAAAAAAAAAAAAAAAAAAAAAAAAAAAAAAAAAAAAAAAAAAAAAAAAAAAAAAAAAAAAAAAAAAAAAAAAAAAAAAAAAAAAAAAAAAAAAAAAAAAAAAAAAAAAAAAAAAAAAAAAAAAAAAAAAAAAAAAAAAAAAAAAAAAAAAAAAAAAAAAAAAAAAAAAAAAAAAAAAAAAAAAAAAAAAAAAAAAAAAAAAAAAAAAAAAAAAAAAAAAAAAAAAAAAAAAAAAAAAAAAAAAAAAAAAAAAAAAAAAAAAAAAAAAAAAAAAAAAAAAAAAAAAAAAAAAAAAAAAAAAAAAAAAAAAAAAAAAAAAAAAAAAAAAAAAAAAAAAAAyMDIxOjAzOjI0IDE3OjMxOjQ1ADIwMjE6MDM6MjQgMTc6MzE6NDUAAABMAGUAbgBvAHYAbwAAAP/hCxlodHRwOi8vbnMuYWRvYmUuY29tL3hhcC8xLjAvADw/eHBhY2tldCBiZWdpbj0n77u/JyBpZD0nVzVNME1wQ2VoaUh6cmVTek5UY3prYzlkJz8+DQo8eDp4bXBtZXRhIHhtbG5zOng9ImFkb2JlOm5zOm1ldGEvIj48cmRmOlJERiB4bWxuczpyZGY9Imh0dHA6Ly93d3cudzMub3JnLzE5OTkvMDIvMjItcmRmLXN5bnRheC1ucyMiPjxyZGY6RGVzY3JpcHRpb24gcmRmOmFib3V0PSJ1dWlkOmZhZjViZGQ1LWJhM2QtMTFkYS1hZDMxLWQzM2Q3NTE4MmYxYiIgeG1sbnM6ZGM9Imh0dHA6Ly9wdXJsLm9yZy9kYy9lbGVtZW50cy8xLjEvIi8+PHJkZjpEZXNjcmlwdGlvbiByZGY6YWJvdXQ9InV1aWQ6ZmFmNWJkZDUtYmEzZC0xMWRhLWFkMzEtZDMzZDc1MTgyZjFiIiB4bWxuczp4bXA9Imh0dHA6Ly9ucy5hZG9iZS5jb20veGFwLzEuMC8iPjx4bXA6Q3JlYXRlRGF0ZT4yMDIxLTAzLTI0VDE3OjMxOjQ1LjIwMzwveG1wOkNyZWF0ZURhdGU+PC9yZGY6RGVzY3JpcHRpb24+PHJkZjpEZXNjcmlwdGlvbiByZGY6YWJvdXQ9InV1aWQ6ZmFmNWJkZDUtYmEzZC0xMWRhLWFkMzEtZDMzZDc1MTgyZjFiIiB4bWxuczpkYz0iaHR0cDovL3B1cmwub3JnL2RjL2VsZW1lbnRzLzEuMS8iPjxkYzpjcmVhdG9yPjxyZGY6U2VxIHhtbG5zOnJkZj0iaHR0cDovL3d3dy53My5vcmcvMTk5OS8wMi8yMi1yZGYtc3ludGF4LW5zIyI+PHJkZjpsaT5MZW5vdm88L3JkZjpsaT48L3JkZjpTZXE+DQoJCQk8L2RjOmNyZWF0b3I+PC9yZGY6RGVzY3JpcHRpb24+PC9yZGY6UkRGPjwveDp4bXBtZXRhPg0KICAgICAgICAgICAgICAgICAgICAgICAgICAgICAgICAgICAgICAgICAgICAgICAgICAgICAgICAgICAgICAgICAgICAgICAgICAgICAgICAgICAgICAgICAgICAgICAgICAgIAogICAgICAgICAgICAgICAgICAgICAgICAgICAgICAgICAgICAgICAgICAgICAgICAgICAgICAgICAgICAgICAgICAgICAgICAgICAgICAgICAgICAgICAgICAgICAgICAgICAgCiAgICAgICAgICAgICAgICAgICAgICAgICAgICAgICAgICAgICAgICAgICAgICAgICAgICAgICAgICAgICAgICAgICAgICAgICAgICAgICAgICAgICAgICAgICAgICAgICAgICAKICAgICAgICAgICAgICAgICAgICAgICAgICAgICAgICAgICAgICAgICAgICAgICAgICAgICAgICAgICAgICAgICAgICAgICAgICAgICAgICAgICAgICAgICAgICAgICAgICAgIAogICAgICAgICAgICAgICAgICAgICAgICAgICAgICAgICAgICAgICAgICAgICAgICAgICAgICAgICAgICAgICAgICAgICAgICAgICAgICAgICAgICAgICAgICAgICAgICAgICAgCiAgICAgICAgICAgICAgICAgICAgICAgICAgICAgICAgICAgICAgICAgICAgICAgICAgICAgICAgICAgICAgICAgICAgICAgICAgICAgICAgICAgICAgICAgICAgICAgICAgICAKICAgICAgICAgICAgICAgICAgICAgICAgICAgICAgICAgICAgICAgICAgICAgICAgICAgICAgICAgICAgICAgICAgICAgICAgICAgICAgICAgICAgICAgICAgICAgICAgICAgIAogICAgICAgICAgICAgICAgICAgICAgICAgICAgICAgICAgICAgICAgICAgICAgICAgICAgICAgICAgICAgICAgICAgICAgICAgICAgICAgICAgICAgICAgICAgICAgICAgICAgCiAgICAgICAgICAgICAgICAgICAgICAgICAgICAgICAgICAgICAgICAgICAgICAgICAgICAgICAgICAgICAgICAgICAgICAgICAgICAgICAgICAgICAgICAgICAgICAgICAgICAKICAgICAgICAgICAgICAgICAgICAgICAgICAgICAgICAgICAgICAgICAgICAgICAgICAgICAgICAgICAgICAgICAgICAgICAgICAgICAgICAgICAgICAgICAgICAgICAgICAgIAogICAgICAgICAgICAgICAgICAgICAgICAgICAgICAgICAgICAgICAgICAgICAgICAgICAgICAgICAgICAgICAgICAgICAgICAgICAgICAgICAgICAgICAgICAgICAgICAgICAgCiAgICAgICAgICAgICAgICAgICAgICAgICAgICAgICAgICAgICAgICAgICAgICAgICAgICAgICAgICAgICAgICAgICAgICAgICAgICAgICAgICAgICAgICAgICAgICAgICAgICAKICAgICAgICAgICAgICAgICAgICAgICAgICAgICAgICAgICAgICAgICAgICAgICAgICAgICAgICAgICAgICAgICAgICAgICAgICAgICAgICAgICAgICAgICAgICAgICAgICAgIAogICAgICAgICAgICAgICAgICAgICAgICAgICAgICAgICAgICAgICAgICAgICAgICAgICAgICAgICAgICAgICAgICAgICAgICAgICAgICAgICAgICAgICAgICAgICAgICAgICAgCiAgICAgICAgICAgICAgICAgICAgICAgICAgICAgICAgICAgICAgICAgICAgICAgICAgICAgICAgICAgICAgICAgICAgICAgICAgICAgICAgICAgICAgICAgICAgICAgICAgICAKICAgICAgICAgICAgICAgICAgICAgICAgICAgICAgICAgICAgICAgICAgICAgICAgICAgICAgICAgICAgICAgICAgICAgICAgICAgICAgICAgICAgICAgICAgICAgICAgICAgIAogICAgICAgICAgICAgICAgICAgICAgICAgICAgICAgICAgICAgICAgICAgICAgICAgICAgICAgICAgICAgICAgICAgICAgICAgICAgICAgICAgICAgICAgICAgICAgICAgICAgCiAgICAgICAgICAgICAgICAgICAgICAgICAgICAgICAgICAgICAgICAgICAgICAgICAgICAgICAgICAgICAgICAgICAgICAgICAgICAgICAgICAgICAgICAgICAgICAgICAgICAKICAgICAgICAgICAgICAgICAgICAgICAgICAgICAgICAgICAgICAgICAgICAgICAgICAgICAgICAgICAgICAgICAgICAgICAgICAgICAgICAgICAgICAgICAgICAgICAgICAgIAogICAgICAgICAgICAgICAgICAgICAgICAgICAgICAgICAgICAgICAgICAgICAgICAgICAgICAgICAgICAgICAgICAgICAgICAgICAgICAgICAgICAgICAgICAgICAgICAgICAgCiAgICAgICAgICAgICAgICAgICAgICAgICAgICA8P3hwYWNrZXQgZW5kPSd3Jz8+/9sAQwAHBQUGBQQHBgUGCAcHCAoRCwoJCQoVDxAMERgVGhkYFRgXGx4nIRsdJR0XGCIuIiUoKSssKxogLzMvKjInKisq/9sAQwEHCAgKCQoUCwsUKhwYHCoqKioqKioqKioqKioqKioqKioqKioqKioqKioqKioqKioqKioqKioqKioqKioqKioq/8AAEQgBEAHlAwEiAAIRAQMRAf/EAB8AAAEFAQEBAQEBAAAAAAAAAAABAgMEBQYHCAkKC//EALUQAAIBAwMCBAMFBQQEAAABfQECAwAEEQUSITFBBhNRYQcicRQygZGhCCNCscEVUtHwJDNicoIJChYXGBkaJSYnKCkqNDU2Nzg5OkNERUZHSElKU1RVVldYWVpjZGVmZ2hpanN0dXZ3eHl6g4SFhoeIiYqSk5SVlpeYmZqio6Slpqeoqaqys7S1tre4ubrCw8TFxsfIycrS09TV1tfY2drh4uPk5ebn6Onq8fLz9PX29/j5+v/EAB8BAAMBAQEBAQEBAQEAAAAAAAABAgMEBQYHCAkKC//EALURAAIBAgQEAwQHBQQEAAECdwABAgMRBAUhMQYSQVEHYXETIjKBCBRCkaGxwQkjM1LwFWJy0QoWJDThJfEXGBkaJicoKSo1Njc4OTpDREVGR0hJSlNUVVZXWFlaY2RlZmdoaWpzdHV2d3h5eoKDhIWGh4iJipKTlJWWl5iZmqKjpKWmp6ipqrKztLW2t7i5usLDxMXGx8jJytLT1NXW19jZ2uLj5OXm5+jp6vLz9PX29/j5+v/aAAwDAQACEQMRAD8A+kaKKKACiiigAooooAKKKKACiiuH8X3eg6f8QPCNzfXOn2+pfapEDzSokvkm2nAHJztLkD0LYHXFAHcUV5v4P1q+8Rxzr4uvdHu7OSxM19pck6TSWkgZSVeLyUMar8wIdnOVXB6k73w50uDT/CKXVvZRWP8Aas0mom3iiEaxiU5jXaOAVjEan3U0AdVRRRQAUUUUAFFFFABRRRQAUUUUAFY/irXJfDvh2XUbe0S8lWaCFIXmMSs0syRDLBWwAXz0PStisLxnoD+JvC8ulRiBvNuLd3W4GUZEnjkdSMHOVUjGMHPNAGfZ+PIIrjUbPxHbJYX1hcRwGKyke9E7SR71EYWMOzbQxK7MgDPTmrk/jrw9BbWMzXskg1DzBaxwWs0skrRnEiiNVLblPVSMjB44OM3xD4Btp4NMPhqztrD+zZ5JRaWtxJp8codNrfvLfDIehzg5wQRzkJo3gyfT9W0S9EFvarZm9e5iF9NdsZJymGEko3OflOScdeBQBFo3xCivLrWrrU5WtNNsrz7FbwtpVys0j5CjDkYkZjn92ibhxnrWxL468Ow2NrdvfPsu7h7aFFtZWlaZQS0ZjC7w4Cn5SAe2MkVkyeDtUjt2ntZbNr238QS6vbRyuwjkV1ZPLdgpKnbI3IDYIHWiw8G6mmuWGr30lmLj+2Z9Tu4onYpGHtDbqkZKgsQAhJIXPzHHagDQb4jeF0naKXUJImSXyJGks5lWOXbu8tmKYVyOikgnoATVyPxfo82kvqMMl1JDHObZ40sJ2nSUDOwwhPMBwQcFehB6GsWXwZfSWt1GJLXdN4lh1dcs3+qSWJyD8v38RnA6dOaj1Xwnr73OsTaVeRImoaxFetAt7LameBbOOExtNGpaM+ZGGyoOQoGRk4ANmXxx4ei06yvmvmaG+me3txHbSvJJKgYtH5YUsHGxhtIByMYzxT38aaCul2l+t5JLFeO8dvHDbSyTSMhIdRCqmTKkEMNvy45xXOeHfAmq6XPpMl5cWz/YtZu9QkAuJZm8uaCRFUPICzMC4yWPIyc9qltvCGt6TqUOraa2n3N5DeakwtriZ443gu51lHzhGKuuxP4SDlhnoaAN298a6Dp3lfbLySPzIFuT/osreTE3R5cL+6Xg8ybRwfQ1oaxrWn6BpMmp6vcrbWURQPMVLBdzBV6AnqwGe30ri9b8DalqWsXWomGG6/tS0ihvbT+27yyjjdVKtjyRiVCGxhlU8Hn5sC/8SLVofho9rZ+XG6XNhHFvBdVIuoQM5OSPxyaAJ9Q8cWz6fBPobiWT+1bOxuIbu3lhkiWaVFJMbhWB2vlSRg9ea0E8ZaFJq7abHeO1ysjxDFvIUeRAS8aybdjuADlFJYYPHFYE/hDW9Uv7jVNRbT7e8nv9Nk+zwTPJGkFpMZD85RSztvf+ED7oz3pbPwdrENxY6dNLY/2Np+rS6nFcI7/aJNzySLGU27Vw0py+45A+6Mk0AbXg3xbB4x0KPUYLS6tGP3457eVAOSBtd0UP06rnHQ10Fc94M0nUtA0MaTqSWpitWZbae3nZmmQuzZdSg2HBHALd+a6GgAooooAKKKKACiiigAooooAKKKKACiiigAooooAKKKKACiiigAooooAKKKKACiiigAooooAKKKKACiiigAooooAK5e3t9U1fXtdA8RahYw2d6kEMFtFbFVX7NDIeXhZiS0jHrXUVheH/APkOeKP+won/AKRW1AB/wj+pf9DfrX/fmy/+R6P+Ef1L/ob9a/782X/yPW7WVoGrvq1nN9qiWC9tZmguYVOQjA8EeoIwQfeqUW02S5JNIr/8I/qX/Q361/35sv8A5Ho/4R/Uv+hv1r/vzZf/ACPW7RUlGF/wj+pf9DfrX/fmy/8Akej/AIR/Uv8Aob9a/wC/Nl/8j1u0UAYX/CP6l/0N+tf9+bL/AOR6P+Ef1L/ob9a/782X/wAj1u0UAYX/AAj+pf8AQ361/wB+bL/5Ho/4R/Uv+hv1r/vzZf8AyPW7RQBhf8I/qX/Q361/35sv/kej/hH9S/6G/Wv+/Nl/8j1u0UAYX/CP6l/0N+tf9+bL/wCR6P8AhH9S/wChv1r/AL82X/yPW7RQBhf8I/qX/Q361/35sv8A5Ho/4R/Uv+hv1r/vzZf/ACPW7RQBhf8ACP6l/wBDfrX/AH5sv/kej/hH9S/6G/Wv+/Nl/wDI9btFAGF/wj+pf9DfrX/fmy/+R6P+Ef1L/ob9a/782X/yPW7RQBhf8I/qX/Q361/35sv/AJHo/wCEf1L/AKG/Wv8AvzZf/I9btFAGF/wj+pf9DfrX/fmy/wDkej/hH9S/6G/Wv+/Nl/8AI9btFAGF/wAI/qX/AEN+tf8Afmy/+R6P+Ef1L/ob9a/782X/AMj1u0UAYX/CP6l/0N+tf9+bL/5Ho/4R/Uv+hv1r/vzZf/I9btFAGF/wj+pf9DfrX/fmy/8Akej/AIR/Uv8Aob9a/wC/Nl/8j1u0UAYX/CP6l/0N+tf9+bL/AOR6P+Ef1L/ob9a/782X/wAj1u0UAYX/AAj+pf8AQ361/wB+bL/5Ho/4R/Uv+hv1r/vzZf8AyPW7RQBhf8I/qX/Q361/35sv/kej/hH9S/6G/Wv+/Nl/8j1u0UAYX/CP6l/0N+tf9+bL/wCR6P8AhH9S/wChv1r/AL82X/yPW7RQBhf8I/qX/Q361/35sv8A5Ho/4R/Uv+hv1r/vzZf/ACPW7RQBhf8ACP6l/wBDfrX/AH5sv/kep/Cd5caj4M0W9vpfOubnT4JppCoXe7RqWOAABkk9ABWtWF4G/wCSeeHf+wXbf+iloA3aKKKACiiigAooooAKKKKACiiigAooooAKKKKACqmq3U1jpc91bras0K7z9ruDBEqjlmaQK20AZOcHp261bqtfx3stoy6ZcwW1xkbZJ4DMgGeQVDKTx/tCgDL0TX7jxB4X/tPTrS3adnkSNDdHyJdjld6TBCWQ4yG2cjHFYU3xCu7XSbe6vdO0y1a41mbS0kuNWMdt+7jkZpDKYcj54XQDbycc10Gi6JeaPYXEP2+GWS4eWdnFsVVZpGLEqu84QZHy9epLHNR22g32k+GNP0nRL+1ie0iEck95ZtP53HzNtWRMMzEknJ6nigDatpHmtYpJBGHdAzCJ96Akc7WwMj0OBn0FY3h//kOeKP8AsKJ/6RW1XNF0aDRvDdnoysbiC1t1gzKo+cAY5HTB9OnasvwjYWemah4mtdNtYLS2TVV2QwRiNFzZ2xOFHA5JNAHS1zOrf8SDxRba0vy2d/ts7/0Vv+WUh/E7SfQiumqtqWnwarplxY3a7obiMo49j3HuOtXTkovXYzqRco6b9CzRWH4V1Ce40+XT9RbdqOmyfZ7gn+PA+ST6MuD9c1uUpRcZWZUJKUboKKKKkoKKKKACiiigAooooAKKKKACiiigAooooAKKKKACiiigAooooAKKKKACiiigAooooAKKKKACiiigAooooAKKKKACiiigArC8Df8AJPPDv/YLtv8A0UtbtYXgb/knnh3/ALBdt/6KWgDdooooAKKKKACiiigAooooAKKKKACiiigAooooAKKKgvb+00yze71G6htLaPG+aeQIi5OBljwOSBQBPRVP+19N/sk6p/aFr/Z4TzDeeevk7f72/OMe+agPiTQxpX9qHWtPGn7tn2v7UnlbvTfnGfbNAGnWF4f/AOQ54o/7Cif+kVtW2jrLGskbK6MAVZTkEHuDWJ4f/wCQ54o/7Cif+kVtQBu0UUUAczr/APxI9ctPEScW7YtNRA6eWT8kh/3WPJ9GNdNUN3aw31nNa3SCSGZDHIp7gjBrF8J3UyW9xot+5e80pxCXbrLERmOT8V4PuDWz9+F+q/L+v0MV7k7dH+f9fqdBRRRWJsFFFFABRRRQAUUUUAFFFFABRRRQAUUUUAFFFFABRRRQAUUUUAFFFFABRRRQAUUUUAFFFFABRRRQAUUUUAFFFFABRRRQAVheBv8Aknnh3/sF23/opa3awvA3/JPPDv8A2C7b/wBFLQBu0UUUAFFFFABRRRQAUUUUAFFFFABRRRQAUUUUAFUtXuktNLmkka7QEbBJZ2zTyxk8BlQK2SDz90j1GKu0UAcFplhHN8P9S0zVl1aOO4nuJjcLZP8AaZkeckSmMRkByTnYF4HOwA4qKO61RrjTdU1aDUr/AE7T9TnWGV9OcXLxNb7UmeBEDZDtJHwgOCGwASa9CooAwvB9ld2HgfTLS4T7Ncx2wAikGfJ7qhAP8IIGAe3Wq/hFLyPUPEy6lPBcXI1Vd8kEJiQ/6HbYwpZiOMfxH+ldLWF4f/5Dnij/ALCif+kVtQBu0UUUAFc14mU6RqFp4lgB2237i+AH3rdj97/gDYb6bq6WmTQx3EEkM6B4pFKOrDhgRgirhLllciceaNhysHUMpDKRkEHqKWuc8KzSWTXXh28ctNppHkO3WW2b/Vt745U/7tdHROPLKwQlzRuFFFFQWFFFFABRRRQAUUUUAFFFFABRRRQAUUUUAFFFFABRRRQAUUUUAFFFFABRRRQAUUUUAFFFFABRRRQAUUUUAFFFFABWF4G/5J54d/7Bdt/6KWt2sLwN/wAk88O/9gu2/wDRS0AbtFFFABRRRQAUUUUAFFFFABRRRQAUUUUAFUdb+0Hw/qH2G4jtrn7LL5M8r7EifYdrM2DgA4JODj0NXqyfFaq/gzWlkhNwjafOGhG7Mg8tvl+UE89OAT6UAZPhHxbeeIbt4LqPRl8uASFrHUJZXc5ADBJII/kPPzBj2HOc11lcb4UkjvtaW7urzX7u8htHji/tTSWs1ijZkLjd5SKzkomeT93gAZrp9Vjnl0udbOa6hmC7ka0ERlJHO1fNBTJxj5uOeo60AW6K5jw3eajrHhCf7ffzWd7FcTwvOyRefAqSEDeADFv2AZIBTnIyKxVv/FF/4fs7jS7nUry1bVZB9rtYrVbm4sRDJtkxKoj5m2YIAJTBA5oA9BrC8P8A/Ic8Uf8AYUT/ANIrar2k6jb3/h+01C3nmuYJbdZFlePEjjHUqoHzeoAHPAFZPhG9i1DUPE1zAs6Rvqq4E8DwvxZ2w5RwGHTuKAOlooooAKKKKAOc8VRPYSWviO0QtLpxIuUUcy2zffHvt4YfQ10EUqTwpLC4eORQyMpyGB5BpzKroyOoZWGCCMgiub8MO2lX134anYkWn76yZj9+2Y8D32HK/lW3xw81+X/AMfgn5P8AP/g/odLRRRWJsFFFFABRRRQAUUUUAFFFFABRRRQAUUUUAFFFFABRRRQAUUUUAFFFFABRRRQAUUUUAFFFFABRRRQAUUUUAFFFFABWF4G/5J54d/7Bdt/6KWt2sLwN/wAk88O/9gu2/wDRS0AbtFFFABRRRQAUUUUAFFFFABRRRQAUUUUAFZHiJ4J7WHRrpZPL1tpbAvGVzGDbyuW+YEHiMjkEZI61r1h+Lf8AhH10ZZPFmmLqNjHLv2Ppj3wjYK3zlFRyoC7vmIAGcZ5oAyvClxKLjRmbWdY1CLVtJe9ijvzbkRBTB1McSsW/fAZLEcHg8EdRf2EOpWjW1y06oxBzBcPC4IOeHQhh+BrlvCU3gY6yyeFNDh02+e1MnmLoUliXh3L0dokDAnbwDzjPauyoAxJPCGiy6JcaQ9vMbG6Rkni+1zAy7mLMWbfuLMScsTkjgkjinnwtpx05bLzdTEKuXBGq3QfJGMb/ADN23H8Ocd8VsUUAQ2dnb6fYw2dlCsFvboI4okGAigYAFZHh/wD5Dnij/sKJ/wCkVtW7WF4f/wCQ54o/7Cif+kVtQBu0UUUAFFFFABXPeLLaaKC31ywQvd6UxlKL1lhPEif988j3UV0NHXrVQlyyuROPPGxFa3MN7Zw3Vs4khmQPG4/iUjINS1zPh/8A4kmtXfhyTiDm708n/nkx+aMf7rH8mFdNTnHllpsFOXNG73CiiioLCiiigAooooAKKKKACiiigAooooAKKKKACiiigAooooAKKKKACiiigAooooAKKKKACiiigAooooAKKKKACsLwN/yTzw7/ANgu2/8ARS1u1heBv+SeeHf+wXbf+iloA3aKKKACiiigAooooAKKKKACiiigAooooAKzPEr2cfhTVn1OF57JbKY3EUZw0kew7lHI5IyOtadUNeR5PDmpJDdLZyNaShbl32LCdhw5bsB1z2xQByPg24afXLSXU7m9vNRe1vok+0XUUq2qQ3SROo8uKPdvZVbcwJ+TGfXtb65ltLN5oLOe9kXGILcoHfJxwXZV468kdK4T4d6npsurXNnptp4ctpGhMs50a2liMjK+0k7o1BGSw+8Tn8a7bVo7ibS5obWztL5pV2Pb3khSKRDwwYhH4wTxtOelAFCPxXYv4an1l4riKO3keCS3ZVMolWTyzGApKli/yjBIJI5qv/wmtuYVVNL1F9RN01q2mKIvPR1jEhyfM8vGwq2d+DuUdTiqFv4T1GPwbNoyixtiLgXlpHDIxhtnW4E0cIGwHywVUZ46nCgACmJ4a16HUjr8Sac2rSXsk8lm1y4gEbW8cIUS+XuyPJRs7OcsOODQB1um6hb6tpdrqFkxe3uolmiYjBKsMjI7HnpWX4f/AOQ54o/7Cif+kVtVnQNH/sfwvZaTLKZWt7dYpJUJTe2PmYYOVyckc5FZ3hGyi0/UPE1tA07xpqq4M87zPzZ2x5dyWPXuaAOlooooAKKKKACiiigDC8VWE81jFqWnLu1DTH+0QAf8tBjDx/8AAlyPritXT76DU9Ot760bfDcRiRD7H+tWK5nR/wDiQ+JrnQ2+W0vN15YeinP72IfQncB6MfStl78LdV+X9a/eYv3J36P8+n+X3HTUUUVibBRRRQAUUUUAFFFFABRRRQAUUUUAFFFFABRRRQAUUUUAFFFFABRRRQAUUUUAFFFFABRRRQAUUUUAFFFFABWF4G/5J54d/wCwXbf+ilrdrC8Df8k88O/9gu2/9FLQBu0UUUAFFFFABRRRQAUUUUAFFFFABRRRQAVS1qzXUdB1CyeE3C3NtJE0KvsMgZSNu7tnOM9qu1meJTIvhTVjBareSiymKWzxeasx2HCFMjcD0xkZzigDl/DdtPaePWTUbC8s5J7S6uLWOS9imiQPPE04QIgbLOyMdxIGcLgZFd3Xl3gqKSPxLHD4cu/Cslu9v5t/PpOhPEU2uo8ln887WYMxGQSNhJWvUaACiiigArC8P/8AIc8Uf9hRP/SK2rdrC8P/APIc8Uf9hRP/AEitqAN2iiigAooooAKKKKACsXxRpk1/paz6fxqNjILm0Pq69V+jDK/jW1RVRk4u6JlFSjysp6TqcOsaTbaha/6udA2D1U91PuDkfhVyuZsf+JB4vm04/LY6sWubX0Scf61PxGHH/Aq6aqqRSemzJpyclrutwooorM0CiiigAooooAKKKKACiiigAooooAKKKKACiiigAooooAKKKKACiiigAooooAKKKKACiiigAooooAKwvA3/ACTzw7/2C7b/ANFLW7WF4G/5J54d/wCwXbf+iloA3aKKKACiiigAooooAKKKKACiiigAooooAKx/ER1OJdPutJt5rwW135lzaQSojzxmKRdoLsqnDsjYLDhfwOxVDXb2XTfDupX1sYRNa2ss0ZuG2x7lQkbjxhcjk+lAHP8AhjRdc03UrO51S5upnu7GWTU/MvGliW5aSNo0jQnCBVMq/IFBAXOTWp4wvtD03wvdXfimKGbTY9peGZVZZW3AIuG4JLYAzx68Vm+EtYutSvm+06nqN0pt9/lXXh+exRTleRI6gE8/dBJOSecZrraAOQ8IRaRL4L+w3VzpV7bS+dcSWkMyT28EbSM3lDqCiZC5xj5eABgDlovD2i/8IHpt/eTaHocF9qz6wkGp2qG1dXikSKIx7kGRE0Z6/eQnFesUUAZHhq8kvfB+nXUdhHZO9qpS0UFI04wqjjKr0xxwMcVR8IveSah4mbUoILe5OqrvjgmMqD/Q7bGGKqTxj+Ef1rpawvD/APyHPFH/AGFE/wDSK2oA3aKKKACiiigAooooAKKKKAMnxJpUmraOyWrCO9t3FxaSf3JV5X8D0PsTU2h6rHrWjW99GpjaRcSRnrG44ZT9CCK0K5mP/in/ABm0X3bDWyXT0julHzD/AIGoz9VPrW0fei49Vqv1MZe5NS6PR/p/kdNRRRWJsFFFFABRRRQAUUUUAFFFFABRRRQAUUUUAFFFFABRRRQAUUUUAFFFFABRRRQAUUUUAFFFFABRRRQAVheBv+SeeHf+wXbf+ilrdrC8Df8AJPPDv/YLtv8A0UtAG7RRRQAUUUUAFFFFABRRRQAUUUUAFFFFABVLWrT7foOoWZjEv2i2ki8sybA+5SMbsHbnPXBx6GrtYfim++w2lp9ptvtGmT3Bh1JfszTgQNFJ1RQSQXEangjDHPrQBg+FDqen+K10zVjdZksJJovN1n7YCEeNT8piUg/OPmJ7nrzjuq4DwJYXWl6pbu2lWWnx6vYy3kltbaalsbIrJH5UTMoBJKSNkNzlDjHSu21Bb17Nhpc1vBckjbJcxNIijPOVVlJ4/wBoUAWaK5KLxLq1x8Ob7WbS3hur+EXAtjBA7x3Wx2VJEjDbirgBgAxzngkYNRp4m1C7ttPtNNv7G41G8vZLeSeXTpoEtgkRkIe3eTfvwFGCy8OG6dQDsawvD/8AyHPFH/YUT/0itqseH9YbV/DNtqVzF5UrRt50cQLgOhKuF7kZU47nis/wjexahqHia5gWdI31VcCeB4X4s7Yco4DDp3FAHS0UUUAFFFFABRRRQAUUUUAFZviDSf7a0Wa1V/KnGJLeUdYpVOUb8CPyzWlRTjJxd0KUVJWZmeHtW/tnRYrmRPKuVJiuYu8UqnDr+f6EVp1zM3/FP+MkuB8thrREUvpHcgfK3/A1GPqBXTVdSKTutmRTk2rPdBRRRWZoFFFFABRRRQAUUUUAFFFFABRRRQAUUUUAFFFFABRRRQAUUUUAFFFFABRRRQAUUUUAFFFFABWF4G/5J54d/wCwXbf+ilrdrC8Df8k88O/9gu2/9FLQBu0UUUAFFFFABRRRQAUUUUAFFFFABRRRQAUUUUAFZviDRU8Q6HcaXLeXVnFcALJJaMocrkEr8ysMEDBGOQSK0qKAMqDRri3037Iut3xxH5aTeXbq0fOQQFiC8DjG3GO3eqH/AAhdv5JZdT1BdQN59tOpAxef5vleT08vy8eWAu3ZjjPXmukooAqaVptvo+lW2n2YYQW8YRS7bmPuT3JPJPcms3w//wAhzxR/2FE/9Irat2sLw/8A8hzxR/2FE/8ASK2oA3aKKKACiiigAooooAKKKKACiiigChrelR61o1xYSsU81fkkHWNxyrD3BANV/DWqyaro4N4oS+tnNvdxj+GVeD+B4I9jWvXM6h/xIPFsGqL8tlqhW1vPRJR/qpPx+4f+A1tD3ouHzRjP3ZKfyf8AXkdNRRRWJsFFFFABRRRQAUUUUAFFFFABRRRQAUUUUAFFFFABRRRQAUUUUAFFFFABRRRQAUUUUAFFFFABWF4G/wCSeeHf+wXbf+ilrdrC8Df8k88O/wDYLtv/AEUtAG7RRRQAUUUUAFFFFABRRRQAUUUUAFFFFABRRRQAVW1C/g0yza5uhMY1IGIYHmcknAARAWP4CrNZviG71Sy0O4m0HTjqOoABYYPMRBknG4lmUYUHJGQTjA60ALDr2n3GitqsEsklqpZW2QSGQMrbWUx7d+4MCCuM57VTfxloqWMV0ZrlllujZrEljO0wmCFyhiCb1OxS3KjjnuKp6X/aOh+EJVsNC1C61FUluPLu5rdHurh3JbcyyFV3MxbjgLwOgFZkOiyS+HY5NX0DWrrU21Bryc295DbTGcxFPNVkuAFQIfLC7ycAZB6kA7mCZbi3jmjDhJEDqJI2RgCM8qwBU+xAI71i+H/+Q54o/wCwon/pFbVZ0G21BPC9lb67KZL4W4S4dX+bdj+8uOf9oY55FZ3hGyi0/UPE1tA07xpqq4M87zPzZ2x5dyWPXuaAOlooooAKKKKACiiigAooooAKKKKACqmq6bBrGk3NhdDMVwhQkdV9CPcHBH0q3RTTad0JpNWZi+FtSnvdMe11E/8AEx0+Q210P7zDo/0ZcN+Jrarmda/4kPiO115PltLnbZ6h6AE/upT9GO0n0b2rpq0qJX5lszOm3ble6/pBRRRWRqFFFFABRRRQAUUUUAFFFFABRRRQAUUUUAFFFFABRRRQAUUUUAFFFFABRRRQAUUUUAFYXgb/AJJ54d/7Bdt/6KWt2sLwN/yTzw7/ANgu2/8ARS0AbtFFFABRRRQAUUUUAFFFFABRRRQAUUUUAFFFFABRRRQAUUUUAFYXh/8A5Dnij/sKJ/6RW1btYXh//kOeKP8AsKJ/6RW1AG7RRRQAUUUUAFFFFABRRRQAUUUUAFFFFAFe/soNS0+eyu03wTxmN19iKyfCl7O9lNpWovuv9LfyJWPWRMZjk/4EuPxBrerntbtLyy1u013SbV7qRVNveW8RAaWI8qRkgZVv0JrWHvJwf9P/AIJjUvFqa+fp/wAD/M6Giue/4Sudf9Z4Z1xfpBG38no/4TCMff0LXU/7h7N/LNHsZ9h+2h3Ohornv+E101f9da6pD/v6bMP/AGWj/hO/D4+/dTx/79lMv80o9jU/lYe2pfzI6GiueHj3wx/Fq8Kf76sv8xUqeNPDUn3ddsR/vTqP50vZVP5X9we2pv7S+83KKy08T6DJ/q9b05vpdxn+tWE1jTJP9XqNo/8Auzqf61PJJbopTi9mXKKiS5gk/wBXNG/+64NS1JYUUUUAFFFFABRRRQAUUUUAFFFFABRRRQAUUUUAFFFFABWF4G/5J54d/wCwXbf+ilrdrC8Df8k88O/9gu2/9FLQBu0UUUAFFFFABRRRQAUUUUAFFFFABRRRQAUUUUAFZviBrGPQriXVrua0s4wHllgneF8A9AyENknAwpyc471pVW1DTbHVrNrTVbK3vbZiGaG5iWRCQcg7WBHBGaAOQmm1fS/hbcTXU91bTvKdjzyl57S2knwN7kkl0ibJJJwR1OMmgrTP4jPhx9S1AaSurvCsovpRMcWSTeT5+7zCN7M33s/Lt6Aiu4tdC0iyt2t7LSrK3haNo2jit0RSjHJXAGME9R3ph8OaG2kDSjo2nnTlbcLM2qeSDnOdmMZzz0oAqeD7271DwPpl3cP9puZLYESyHHndlckD+IAHIHfpVfwi95JqHiZtSggt7k6qu+OCYyoP9DtsYYqpPGP4R/WujREijWONVRFAVVUYAA7AVzkdr4i03WtYm0+w0u7tr+7S4jafUJIXXFvFEQVEDjrETnPQigDpaKwvtfiz/oCaL/4OJf8A5GqppmueJ9UtHuINC0hVS4mtyH1eXO6KVo2PFt0JQke2KAOoorC+1+LP+gJov/g4l/8Akaj7X4s/6Ami/wDg4l/+RqAN2isL7X4s/wCgJov/AIOJf/kaj7X4s/6Ami/+DiX/AORqAN2isL7X4s/6Ami/+DiX/wCRqqSa54ni1q20xtC0gzXFvLcKw1eXaFjaNSD/AKN1zKuPoaAOoorC+1+LP+gJov8A4OJf/kaj7X4s/wCgJov/AIOJf/kagDdorC+1+LP+gJov/g4l/wDkaj7X4s/6Ami/+DiX/wCRqAN2isL7X4s/6Ami/wDg4l/+RqqanrnifS7RLifQtIZXuIbcBNXlzullWNTzbdAXBPtmgDqKKwvtfiz/AKAmi/8Ag4l/+RqPtfiz/oCaL/4OJf8A5GoA3aKwvtfiz/oCaL/4OJf/AJGo+1+LP+gJov8A4OJf/kagDd69ahe0tpP9ZbxP/vIDWR9r8Wf9ATRf/BxL/wDI1H2vxZ/0BNF/8HEv/wAjUXC1zQfRdKk/1mmWb/71up/pVd/C3h+T7+h6a3ubRP8ACszTNc8T6paPcQaFpCqlxNbkPq8ud0UrRseLboShI9sVb+1+LP8AoCaL/wCDiX/5Gq+eS2ZDhB7oH8E+GZPvaHYj/dhA/lUf/CBeGf4dJjT/AHHdf5GpPtfiz/oCaL/4OJf/AJGo+1+LP+gJov8A4OJf/kaq9tU/mf3k+xpfyr7iP/hBdBH+rguYz/sX04/9no/4QuwX/U32rw/7mpTD/wBmqT7X4s/6Ami/+DiX/wCRqPtfiz/oCaL/AODiX/5Go9tU/mYexpfyoj/4RBB013XQP+wgx/nR/wAIgv8A0Htd/wDA9v8ACoJNc8Txa1baY2haQZri3luFYavLtCxtGpB/0brmVcfQ1b+1+LP+gJov/g4l/wDkaj20+4exp9iP/hEF/wCg9rv/AIHt/hR/wiC/9B7Xf/A9v8Kk+1+LP+gJov8A4OJf/kaj7X4s/wCgJov/AIOJf/kaj20+4exp9iP/AIRBf+g9rv8A4Ht/hR/wiC/9B7Xf/A9v8Kk+1+LP+gJov/g4l/8Akaj7X4s/6Ami/wDg4l/+RqPbT7h7Gn2I/wDhEF/6D2u/+B7f4Uf8Igv/AEHtd/8AA9v8Kg1PXPE+l2iXE+haQyvcQ24CavLndLKsanm26AuCfbNW/tfiz/oCaL/4OJf/AJGo9tPuHsafYj/4RBf+g9rv/ge3+FH/AAiC/wDQe13/AMD2/wAKk+1+LP8AoCaL/wCDiX/5Go+1+LP+gJov/g4l/wDkaj20+4exp9iP/hEF/wCg9rv/AIHt/hR/wiC/9B7Xf/A9v8Kk+1+LP+gJov8A4OJf/kaj7X4s/wCgJov/AIOJf/kaj20+4exp9iP/AIRBf+g9rv8A4Ht/hWzY2n2GyjthPPcbM/vbiTe7ZOeT361lfa/Fn/QE0X/wcS//ACNVTTNc8T6paPcQaFpCqlxNbkPq8ud0UrRseLboShI9sVMpykrNlRpxi7pHUVheBv8Aknnh3/sF23/opaPtfiz/AKAmi/8Ag4l/+RqteG9Om0jwppOm3ZjaezsobeUxElSyIFOCQCRkdwKgs06KKKACiiigAooooAKKKKACiiigAooooAKKKKACiiigAooooAKKKKAOZ1rxbJpWqTwRaetxaWMcEl/cGfY0KyuVGxNp3kBSzZK4GMZPFJ4g8Ut4fuLmKy0xLmGwszqWoN53lGKEs2SihTvc7JGwSv3euTS614Sl1XVJ54dQW3tL6OCO/tzb72mWJyw2PuGwkMVbIbIxjB5pmueEbvWnmb+1Irf7fY/2fqQW1J8+Hcx/d/P+7YB5Bk7vvdOBQB1IORkciigDAwOBRQAUUUUAZOu6xPpr2Ntp9pHeX1/MYoYpZzCg2ozszOFYgALjhTkkfUZGo+NIbXwhp/iJLS2V7mWO3K310IEty77XDy7WwFZecDB2itfXdHuNSexudPu47O+sJzLDLLAZozuRkZWQMpIIbPDDBA+hr2Oh6jpHh+DTtK1G1Dwbds11ZtJuPJcsqyLksxLcEAZxg0AaunXL3mmwXMn2fdKgf/Rp/OjOf7r7V3D3wKs1meHtHGg6JFYCbz2WSWV5AmwF5JGkbao+6u5zhcnAwOa06ACiiigCO4aVLaVreNZZlQmONn2h2xwCcHGT3waxdL8QpqHhCXWdXtI7UWrXBuIUk85UNvK6kqxVc8x7hwO1bcwkaCQW7okpUhGdCyq2OCQCMjPbI+ornNF8L39loFzo+r6laX1rdSXLS+RZPAxWd3dlBMr9DI3PpgdeaALHh/xDdardzWep6cun3SW0N2iJcecGil3hcnauHBRgV5A4wTmt6sHw/wCHrrSrua81TUl1C6e2htEdLfyQsUW8rkbmy5LsSeAeMAYreoAKKKKACsYa1dr40XRJ7CNLaWzkuoLtbgsz7GiVlMe35eZeDuPQ8CtmufvND1ebxlb61bapZRW8FrLarbSWDu5EhjZiZBMBndEuPl6Ej3oAgbxR5PjpvDdvBpkQWOOcme/8qaXzC5by4RGd5GwkncOtdPWBq2g6hrNxapdajarYQ3FvdPFHZETNJE6uMSGQhVLKONpOCRnnNb9ABRRRQAVW1CS9is2bTLaG6ucgLHNOYUPPJLBWIwPRTVms3xDp9/qmh3FlpOpDS7mYBRdeSZCi5+bADKQSMgEHIzkcigDMj8VI3hS412fTwLm1lltPIjkDh5Vm8rYkhAyrOq84HuMjFX9C1ifUzfW9/aR2l7p9wIJ4opjKmTGsisrlVJBVx1UcgjtmqX/CL3EvhT+wp7qzhhSFUgays2iELowaNgrSPwpVTgnkjrV3QtHn0w31xf3cd3e6hcCeeWKExJkRrGqqhZiAFQdWPJJ74oA1qKKKACkYkKSoyccDPWlpG3FTsIDY4JGQD9KAMLStZur/AFi60jWtNt7a5toIboCC5NwhV2cLklEKsGjJxgjoQfSDwp4rfxNLefu9OiS2mkiMcGoedOpSRk/eR+WuzO3I5NHhnw9q+hpP9u1ay1Ce5mE1zcjT3jlmbvkmZh0wqgABQMYNWLLQb0eJU1jVb+2uJILaW1t47WzMACSOjMXJd9x/drjG0DLcc8AG7RRRQAUUUUAc74i8Ty+H9SsIXgspYb2WOGNDelLqRmcK3lQ7D5gUMrH5hgZ9OYvEHilvD9xcxWWmJcw2FmdS1BvO8oxQlmyUUKd7nZI2CV+71yata9oeoa4y239o28Gml4pJIhaFpyUcP8svmALkqP4CRzg9MU9c8I3etPM39qRW/wBvsf7P1ILak+fDuY/u/n/dsA8gyd33unAoA6kHIyORRQBgYHAooAKKKKACiiigAooooAKKKKACiiigAooooAKKKKACiiigAooooAKKKKACiiigAooooAKKKKACiiigAooooAKKKKACiiigAooooAK5zxdqt/pcuijTHQNc3k0UiPgLIFsrmVVJwSo3xocgZ47jIPR1VvNNtL+a0lu4RK9nKZoCSRtcxvGTgdfkkcYORz6gUAcNF8RNVttF0r7ToTX+pXGmx380dj58oKMPl27IGw7EN8rbVGPv961ZPGl2q6xONMt4rXTrlbSJ57qQSXEzCIhRGkLsOJccbm3LjbzkXl8EaGlrbQRRXkS2qGKFo9RuEdYzj93vEm4pwMITtGOBVu48NaVdWt1by2zBLq5W6lKTyI/nLtw6srBlI2L90jp7mgDm9J8aarrviLRobLT4IbW5t743kVxLJHJHJb3EMRKhogxxvJAYITu52lcFul/ECe50XT70aa01p9ksJL64lulEsb3KrjaqxhZNu9Sx+Qc/KO1dBaeDtEsGtGs7aaF7SWWWJ0u5Q26Vw8m47suGZVJVsgkDimReCtAhNl5ViyLYxQQwxi4k2FYf9VvXdiQp1BcMQec0AU9D8Y3Wq6pbQXWlJaW94btbaVbrzGY28uxtybAFDdRgnpg4rqqzrbQNMs5LV7a22NaNM0J8xjsMrbpOp5yeeenbFaNABRRRQAUUUUAFFFFABRRRQAUUUUAFFFFABRRRQAUUUUAFFFFABRRRQAUUUUAFFFFABRRRQAUUUUAf/9k=)\n",
        "\n",
        "\n",
        "\n",
        "Manhattan\n",
        "![manh.JPG](data:image/jpeg;base64,/9j/4AAQSkZJRgABAQEAYABgAAD/4RDgRXhpZgAATU0AKgAAAAgABAE7AAIAAAAHAAAISodpAAQAAAABAAAIUpydAAEAAAAOAAAQyuocAAcAAAgMAAAAPgAAAAAc6gAAAAgAAAAAAAAAAAAAAAAAAAAAAAAAAAAAAAAAAAAAAAAAAAAAAAAAAAAAAAAAAAAAAAAAAAAAAAAAAAAAAAAAAAAAAAAAAAAAAAAAAAAAAAAAAAAAAAAAAAAAAAAAAAAAAAAAAAAAAAAAAAAAAAAAAAAAAAAAAAAAAAAAAAAAAAAAAAAAAAAAAAAAAAAAAAAAAAAAAAAAAAAAAAAAAAAAAAAAAAAAAAAAAAAAAAAAAAAAAAAAAAAAAAAAAAAAAAAAAAAAAAAAAAAAAAAAAAAAAAAAAAAAAAAAAAAAAAAAAAAAAAAAAAAAAAAAAAAAAAAAAAAAAAAAAAAAAAAAAAAAAAAAAAAAAAAAAAAAAAAAAAAAAAAAAAAAAAAAAAAAAAAAAAAAAAAAAAAAAAAAAAAAAAAAAAAAAAAAAAAAAAAAAAAAAAAAAAAAAAAAAAAAAAAAAAAAAAAAAAAAAAAAAAAAAAAAAAAAAAAAAAAAAAAAAAAAAAAAAAAAAAAAAAAAAAAAAAAAAAAAAAAAAAAAAAAAAAAAAAAAAAAAAAAAAAAAAAAAAAAAAAAAAAAAAAAAAAAAAAAAAAAAAAAAAAAAAAAAAAAAAAAAAAAAAAAAAAAAAAAAAAAAAAAAAAAAAAAAAAAAAAAAAAAAAAAAAAAAAAAAAAAAAAAAAAAAAAAAAAAAAAAAAAAAAAAAAAAAAAAAAAAAAAAAAAAAAAAAAAAAAAAAAAAAAAAAAAAAAAAAAAAAAAAAAAAAAAAAAAAAAAAAAAAAAAAAAAAAAAAAAAAAAAAAAAAAAAAAAAAAAAAAAAAAAAAAAAAAAAAAAAAAAAAAAAAAAAAAAAAAAAAAAAAAAAAAAAAAAAAAAAAAAAAAAAAAAAAAAAAAAAAAAAAAAAAAAAAAAAAAAAAAAAAAAAAAAAAAAAAAAAAAAAAAAAAAAAAAAAAAAAAAAAAAAAAAAAAAAAAAAAAAAAAAAAAAAAAAAAAAAAAAAAAAAAAAAAAAAAAAAAAAAAAAAAAAAAAAAAAAAAAAAAAAAAAAAAAAAAAAAAAAAAAAAAAAAAAAAAAAAAAAAAAAAAAAAAAAAAAAAAAAAAAAAAAAAAAAAAAAAAAAAAAAAAAAAAAAAAAAAAAAAAAAAAAAAAAAAAAAAAAAAAAAAAAAAAAAAAAAAAAAAAAAAAAAAAAAAAAAAAAAAAAAAAAAAAAAAAAAAAAAAAAAAAAAAAAAAAAAAAAAAAAAAAAAAAAAAAAAAAAAAAAAAAAAAAAAAAAAAAAAAAAAAAAAAAAAAAAAAAAAAAAAAAAAAAAAAAAAAAAAAAAAAAAAAAAAAAAAAAAAAAAAAAAAAAAAAAAAAAAAAAAAAAAAAAAAAAAAAAAAAAAAAAAAAAAAAAAAAAAAAAAAAAAAAAAAAAAAAAAAAAAAAAAAAAAAAAAAAAAAAAAAAAAAAAAAAAAAAAAAAAAAAAAAAAAAAAAAAAAAAAAAAAAAAAAAAAAAAAAAAAAAAAAAAAAAAAAAAAAAAAAAAAAAAAAAAAAAAAAAAAAAAAAAAAAAAAAAAAAAAAAAAAAAAAAAAAAAAAAAAAAAAAAAAAAAAAAAAAAAAAAAAAAAAAAAAAAAAAAAAAAAAAAAAAAAAAAAAAAAAAAAAAAAAAAAAAAAAAAAAAAAAAAAAAAAAAAAAAAAAAAAAAAAAAAAAAAAAAAAAAAAAAAAAAAAAAAAAAAAAAAAAAAAAAAAAAAAAAAAAAAAAAAAAAAAAAAAAAAAAAAAAAAAAAAAAAAAAAAAAAAAAAAAAAAAAAAAAAAAAAAAAAAAAAAAAAAAAAAAAAAAAAAAAAAAAAAAAAAAAAAAAAAAAAAAAAAAAAAAAAAAAAAAAAAAAAAAAAAAAAAAAAAAAAAAAAAAAAAAAAAAAAAAAAAAAAAAAAAAAAAAAAAAAAAAAAAAAAAAAAAAAAAAAAAAAAAAAAAAAAAAAAAAAAAAAAAAAAAAAAAAAAAAAAAAAAAAAAAAAAAAAAAAAAAAAAAAAAAAAAAAAAAAAAAAAAAAAAAAAAAAAAAAAAAAAAAAAAAAAAAAAAAAAAAAAAAAAAAAAAAAAAAAAAAAAAAAAAAAAAAAAAAAAAAAAAAAAAAAAAAAAAAAAAAAAAAAAAAAAAAAAAAAAAAAAAAAAAAAAAAAAAAAAAAAAAAAAAAAAAAAAAAAAAAAAAAAAAAAAAAAAAAAAAAAAAAAAAAAAAAAAAAAAAAAAAAAAAAAAAAAAAAAAAAAAAAAAAAAAAAAAAAAAAAAAAAAAAAAAAAAAAAAAAAAAAAAAAAAAAAAAAAAAAAAAAAAAAAAAAAAAAAAAAAAAAAAAAAAAAAAAAAAAAAAAAAAAAAAAAAAAAAAAAAAAAAAAAAAAAAAAAAAAAAAAAAAAAAAAAAAAAAAAAAAAAAAAAAAAAAAAAAAAAAAAAAAAAAAAAAAAAAAAAAAAAAAAAAAAAAAAAAAAAAAAAAAAAAAAAAAAAAAAAAAAAAAAAAAAAAAAAAAAAAAAAAAAAAAAAAAAAAAAAAAAAAAAAAAAAAAAAAAAAAAAAAAAAAAAAAAAAAAAAAAAAAAAAAAAAAAAAAAAAAAAAAAAAAAAAAAAAAAAAAAAAAAAAAAAAAAAAAAAAAAAAAAAAAAAAAAAAAAAAAAAAAAAAAAAAAAAAAAAAAAAAAAAAAAAAAAAAAAAAAAAAAAAAAAAAAAAAAAAAAAAAAAAAAAAAAAAAAAAAAAAAAAAAAAAAAAAAAAAAAAAAAAAExlbm92bwAAAAWQAwACAAAAFAAAEKCQBAACAAAAFAAAELSSkQACAAAAAzM5AACSkgACAAAAAzM5AADqHAAHAAAIDAAACJQAAAAAHOoAAAAIAAAAAAAAAAAAAAAAAAAAAAAAAAAAAAAAAAAAAAAAAAAAAAAAAAAAAAAAAAAAAAAAAAAAAAAAAAAAAAAAAAAAAAAAAAAAAAAAAAAAAAAAAAAAAAAAAAAAAAAAAAAAAAAAAAAAAAAAAAAAAAAAAAAAAAAAAAAAAAAAAAAAAAAAAAAAAAAAAAAAAAAAAAAAAAAAAAAAAAAAAAAAAAAAAAAAAAAAAAAAAAAAAAAAAAAAAAAAAAAAAAAAAAAAAAAAAAAAAAAAAAAAAAAAAAAAAAAAAAAAAAAAAAAAAAAAAAAAAAAAAAAAAAAAAAAAAAAAAAAAAAAAAAAAAAAAAAAAAAAAAAAAAAAAAAAAAAAAAAAAAAAAAAAAAAAAAAAAAAAAAAAAAAAAAAAAAAAAAAAAAAAAAAAAAAAAAAAAAAAAAAAAAAAAAAAAAAAAAAAAAAAAAAAAAAAAAAAAAAAAAAAAAAAAAAAAAAAAAAAAAAAAAAAAAAAAAAAAAAAAAAAAAAAAAAAAAAAAAAAAAAAAAAAAAAAAAAAAAAAAAAAAAAAAAAAAAAAAAAAAAAAAAAAAAAAAAAAAAAAAAAAAAAAAAAAAAAAAAAAAAAAAAAAAAAAAAAAAAAAAAAAAAAAAAAAAAAAAAAAAAAAAAAAAAAAAAAAAAAAAAAAAAAAAAAAAAAAAAAAAAAAAAAAAAAAAAAAAAAAAAAAAAAAAAAAAAAAAAAAAAAAAAAAAAAAAAAAAAAAAAAAAAAAAAAAAAAAAAAAAAAAAAAAAAAAAAAAAAAAAAAAAAAAAAAAAAAAAAAAAAAAAAAAAAAAAAAAAAAAAAAAAAAAAAAAAAAAAAAAAAAAAAAAAAAAAAAAAAAAAAAAAAAAAAAAAAAAAAAAAAAAAAAAAAAAAAAAAAAAAAAAAAAAAAAAAAAAAAAAAAAAAAAAAAAAAAAAAAAAAAAAAAAAAAAAAAAAAAAAAAAAAAAAAAAAAAAAAAAAAAAAAAAAAAAAAAAAAAAAAAAAAAAAAAAAAAAAAAAAAAAAAAAAAAAAAAAAAAAAAAAAAAAAAAAAAAAAAAAAAAAAAAAAAAAAAAAAAAAAAAAAAAAAAAAAAAAAAAAAAAAAAAAAAAAAAAAAAAAAAAAAAAAAAAAAAAAAAAAAAAAAAAAAAAAAAAAAAAAAAAAAAAAAAAAAAAAAAAAAAAAAAAAAAAAAAAAAAAAAAAAAAAAAAAAAAAAAAAAAAAAAAAAAAAAAAAAAAAAAAAAAAAAAAAAAAAAAAAAAAAAAAAAAAAAAAAAAAAAAAAAAAAAAAAAAAAAAAAAAAAAAAAAAAAAAAAAAAAAAAAAAAAAAAAAAAAAAAAAAAAAAAAAAAAAAAAAAAAAAAAAAAAAAAAAAAAAAAAAAAAAAAAAAAAAAAAAAAAAAAAAAAAAAAAAAAAAAAAAAAAAAAAAAAAAAAAAAAAAAAAAAAAAAAAAAAAAAAAAAAAAAAAAAAAAAAAAAAAAAAAAAAAAAAAAAAAAAAAAAAAAAAAAAAAAAAAAAAAAAAAAAAAAAAAAAAAAAAAAAAAAAAAAAAAAAAAAAAAAAAAAAAAAAAAAAAAAAAAAAAAAAAAAAAAAAAAAAAAAAAAAAAAAAAAAAAAAAAAAAAAAAAAAAAAAAAAAAAAAAAAAAAAAAAAAAAAAAAAAAAAAAAAAAAAAAAAAAAAAAAAAAAAAAAAAAAAAAAAAAAAAAAAAAAAAAAAAAAAAAAAAAAAAAAAAAAAAAAAAAAAAAAAAAAAAAAAAAAAAAAAAAAAAAAAAAAAAAAAAAAAAAAAAAAAAAAAAAAAAAAAAAAAAAAAAAAAAAAAAAAAAAAAAAAAAAAAAAAAAAAAAAAAAAAAAAAAAAAAAAAAAAAAAAAAAAAAAAAAAAAAAAAAAAAAAAAAAAAAAAAAAAAAAAAAAAAAAAAAAAAAAAAAAAAAAAAAAAAAAAAAAAAAAAAAAAAAAAAAAAAAAAAAAAAAAAAAAAAAAAAAAAAAAAAAAAAAAAAAAAAAAAAAAAAAAAAAAAAAAAAAAAAAAAAAAAAAAAAAAAAAAAAAAAAAAAAAAAAAAAAAAAAAAAAAAAAAAAAAAAAAAAAAAAAAAAAAAAAAAAAAAAAAAAAAAAAAAAAAAAAAAAAAAAAAAAAAAAAAAAAAAAAAAAAAAAAAAAAAAAAAAAAAAAAAAAAAAAAAAAAAAAAAAAAAAAAAAAAAAAAAAAAAAAAAAAAAAAAAAAAAAAAAAAAAAAAAAAAAAAAAAAAAAAAAAAAAAAAAAAAAAAAAAAAAAAAAAAAAAAAAAAAAAAAAAAAAAAAAAAAAAAAAAAAAAAAAAAAAAAAAAAAAAAAAAAAAAAAAAAAAAAAAAAAAAAAAAAAAAAAAAAAAAAAAAAAAAAAAAAAAAAAAAAAAAAAAAAAAAAAAAAAAAAAAAAAAAAAAAAAAAAAAAAAAAAAAAAAAAAAAAAAAAAAAAAAAAAAAAAAAAAAAAAAAAAAAAAAAAAAAAAAAAAAAAAAAAAAAAAAAAAAAAAAAAAAAAAAAAAAAAAAAAAAAAAAAAAAAAAAAAAAAAAAAAAAAAAAAAAAAAAAAAAAAAAAAAAAAAAAAAAAAAAAAAAAAAAAAAAAAAAAAAAAAAAAAAAAAAAAAAAAAAAAAAAAAAAAAAAAAAAAAAAAAAAAAAAAAAAAAAAAAAAAAAAAAAAAAAAAAAAAAAAAAAAAAAAAAAAAAAAAAAAAAAAAAAAAAAAAAAAAAAAAAAAAAAAAAAAyMDIxOjAzOjI0IDE3OjMxOjE2ADIwMjE6MDM6MjQgMTc6MzE6MTYAAABMAGUAbgBvAHYAbwAAAP/hCxlodHRwOi8vbnMuYWRvYmUuY29tL3hhcC8xLjAvADw/eHBhY2tldCBiZWdpbj0n77u/JyBpZD0nVzVNME1wQ2VoaUh6cmVTek5UY3prYzlkJz8+DQo8eDp4bXBtZXRhIHhtbG5zOng9ImFkb2JlOm5zOm1ldGEvIj48cmRmOlJERiB4bWxuczpyZGY9Imh0dHA6Ly93d3cudzMub3JnLzE5OTkvMDIvMjItcmRmLXN5bnRheC1ucyMiPjxyZGY6RGVzY3JpcHRpb24gcmRmOmFib3V0PSJ1dWlkOmZhZjViZGQ1LWJhM2QtMTFkYS1hZDMxLWQzM2Q3NTE4MmYxYiIgeG1sbnM6ZGM9Imh0dHA6Ly9wdXJsLm9yZy9kYy9lbGVtZW50cy8xLjEvIi8+PHJkZjpEZXNjcmlwdGlvbiByZGY6YWJvdXQ9InV1aWQ6ZmFmNWJkZDUtYmEzZC0xMWRhLWFkMzEtZDMzZDc1MTgyZjFiIiB4bWxuczp4bXA9Imh0dHA6Ly9ucy5hZG9iZS5jb20veGFwLzEuMC8iPjx4bXA6Q3JlYXRlRGF0ZT4yMDIxLTAzLTI0VDE3OjMxOjE2LjM4OTwveG1wOkNyZWF0ZURhdGU+PC9yZGY6RGVzY3JpcHRpb24+PHJkZjpEZXNjcmlwdGlvbiByZGY6YWJvdXQ9InV1aWQ6ZmFmNWJkZDUtYmEzZC0xMWRhLWFkMzEtZDMzZDc1MTgyZjFiIiB4bWxuczpkYz0iaHR0cDovL3B1cmwub3JnL2RjL2VsZW1lbnRzLzEuMS8iPjxkYzpjcmVhdG9yPjxyZGY6U2VxIHhtbG5zOnJkZj0iaHR0cDovL3d3dy53My5vcmcvMTk5OS8wMi8yMi1yZGYtc3ludGF4LW5zIyI+PHJkZjpsaT5MZW5vdm88L3JkZjpsaT48L3JkZjpTZXE+DQoJCQk8L2RjOmNyZWF0b3I+PC9yZGY6RGVzY3JpcHRpb24+PC9yZGY6UkRGPjwveDp4bXBtZXRhPg0KICAgICAgICAgICAgICAgICAgICAgICAgICAgICAgICAgICAgICAgICAgICAgICAgICAgICAgICAgICAgICAgICAgICAgICAgICAgICAgICAgICAgICAgICAgICAgICAgICAgIAogICAgICAgICAgICAgICAgICAgICAgICAgICAgICAgICAgICAgICAgICAgICAgICAgICAgICAgICAgICAgICAgICAgICAgICAgICAgICAgICAgICAgICAgICAgICAgICAgICAgCiAgICAgICAgICAgICAgICAgICAgICAgICAgICAgICAgICAgICAgICAgICAgICAgICAgICAgICAgICAgICAgICAgICAgICAgICAgICAgICAgICAgICAgICAgICAgICAgICAgICAKICAgICAgICAgICAgICAgICAgICAgICAgICAgICAgICAgICAgICAgICAgICAgICAgICAgICAgICAgICAgICAgICAgICAgICAgICAgICAgICAgICAgICAgICAgICAgICAgICAgIAogICAgICAgICAgICAgICAgICAgICAgICAgICAgICAgICAgICAgICAgICAgICAgICAgICAgICAgICAgICAgICAgICAgICAgICAgICAgICAgICAgICAgICAgICAgICAgICAgICAgCiAgICAgICAgICAgICAgICAgICAgICAgICAgICAgICAgICAgICAgICAgICAgICAgICAgICAgICAgICAgICAgICAgICAgICAgICAgICAgICAgICAgICAgICAgICAgICAgICAgICAKICAgICAgICAgICAgICAgICAgICAgICAgICAgICAgICAgICAgICAgICAgICAgICAgICAgICAgICAgICAgICAgICAgICAgICAgICAgICAgICAgICAgICAgICAgICAgICAgICAgIAogICAgICAgICAgICAgICAgICAgICAgICAgICAgICAgICAgICAgICAgICAgICAgICAgICAgICAgICAgICAgICAgICAgICAgICAgICAgICAgICAgICAgICAgICAgICAgICAgICAgCiAgICAgICAgICAgICAgICAgICAgICAgICAgICAgICAgICAgICAgICAgICAgICAgICAgICAgICAgICAgICAgICAgICAgICAgICAgICAgICAgICAgICAgICAgICAgICAgICAgICAKICAgICAgICAgICAgICAgICAgICAgICAgICAgICAgICAgICAgICAgICAgICAgICAgICAgICAgICAgICAgICAgICAgICAgICAgICAgICAgICAgICAgICAgICAgICAgICAgICAgIAogICAgICAgICAgICAgICAgICAgICAgICAgICAgICAgICAgICAgICAgICAgICAgICAgICAgICAgICAgICAgICAgICAgICAgICAgICAgICAgICAgICAgICAgICAgICAgICAgICAgCiAgICAgICAgICAgICAgICAgICAgICAgICAgICAgICAgICAgICAgICAgICAgICAgICAgICAgICAgICAgICAgICAgICAgICAgICAgICAgICAgICAgICAgICAgICAgICAgICAgICAKICAgICAgICAgICAgICAgICAgICAgICAgICAgICAgICAgICAgICAgICAgICAgICAgICAgICAgICAgICAgICAgICAgICAgICAgICAgICAgICAgICAgICAgICAgICAgICAgICAgIAogICAgICAgICAgICAgICAgICAgICAgICAgICAgICAgICAgICAgICAgICAgICAgICAgICAgICAgICAgICAgICAgICAgICAgICAgICAgICAgICAgICAgICAgICAgICAgICAgICAgCiAgICAgICAgICAgICAgICAgICAgICAgICAgICAgICAgICAgICAgICAgICAgICAgICAgICAgICAgICAgICAgICAgICAgICAgICAgICAgICAgICAgICAgICAgICAgICAgICAgICAKICAgICAgICAgICAgICAgICAgICAgICAgICAgICAgICAgICAgICAgICAgICAgICAgICAgICAgICAgICAgICAgICAgICAgICAgICAgICAgICAgICAgICAgICAgICAgICAgICAgIAogICAgICAgICAgICAgICAgICAgICAgICAgICAgICAgICAgICAgICAgICAgICAgICAgICAgICAgICAgICAgICAgICAgICAgICAgICAgICAgICAgICAgICAgICAgICAgICAgICAgCiAgICAgICAgICAgICAgICAgICAgICAgICAgICAgICAgICAgICAgICAgICAgICAgICAgICAgICAgICAgICAgICAgICAgICAgICAgICAgICAgICAgICAgICAgICAgICAgICAgICAKICAgICAgICAgICAgICAgICAgICAgICAgICAgICAgICAgICAgICAgICAgICAgICAgICAgICAgICAgICAgICAgICAgICAgICAgICAgICAgICAgICAgICAgICAgICAgICAgICAgIAogICAgICAgICAgICAgICAgICAgICAgICAgICAgICAgICAgICAgICAgICAgICAgICAgICAgICAgICAgICAgICAgICAgICAgICAgICAgICAgICAgICAgICAgICAgICAgICAgICAgCiAgICAgICAgICAgICAgICAgICAgICAgICAgICA8P3hwYWNrZXQgZW5kPSd3Jz8+/9sAQwAHBQUGBQQHBgUGCAcHCAoRCwoJCQoVDxAMERgVGhkYFRgXGx4nIRsdJR0XGCIuIiUoKSssKxogLzMvKjInKisq/9sAQwEHCAgKCQoUCwsUKhwYHCoqKioqKioqKioqKioqKioqKioqKioqKioqKioqKioqKioqKioqKioqKioqKioqKioq/8AAEQgBGwIzAwEiAAIRAQMRAf/EAB8AAAEFAQEBAQEBAAAAAAAAAAABAgMEBQYHCAkKC//EALUQAAIBAwMCBAMFBQQEAAABfQECAwAEEQUSITFBBhNRYQcicRQygZGhCCNCscEVUtHwJDNicoIJChYXGBkaJSYnKCkqNDU2Nzg5OkNERUZHSElKU1RVVldYWVpjZGVmZ2hpanN0dXZ3eHl6g4SFhoeIiYqSk5SVlpeYmZqio6Slpqeoqaqys7S1tre4ubrCw8TFxsfIycrS09TV1tfY2drh4uPk5ebn6Onq8fLz9PX29/j5+v/EAB8BAAMBAQEBAQEBAQEAAAAAAAABAgMEBQYHCAkKC//EALURAAIBAgQEAwQHBQQEAAECdwABAgMRBAUhMQYSQVEHYXETIjKBCBRCkaGxwQkjM1LwFWJy0QoWJDThJfEXGBkaJicoKSo1Njc4OTpDREVGR0hJSlNUVVZXWFlaY2RlZmdoaWpzdHV2d3h5eoKDhIWGh4iJipKTlJWWl5iZmqKjpKWmp6ipqrKztLW2t7i5usLDxMXGx8jJytLT1NXW19jZ2uLj5OXm5+jp6vLz9PX29/j5+v/aAAwDAQACEQMRAD8A+kaKKKACiiigAooooAKKKKACisbxZrV34d8NXerWVhHffZI2mlikuDD+7VSWIO1snjgY5z1FSz+JNLttWXTprhxcGRYiRBIY0dgCqNIF2KxyMKSCdy8cigDUorl/DvjI65f2sE9nFarqFnJfWJS58x3iR0RvMXaPLbMicAt/EM5U11FABRRRQAUUUUAFFFFABRRRQAUUUUAFFFeO6P4cvJ77UNd0/SdMt30/xBqF02oQSN9uvFSaX/RyojHyscLy7cfw5xgA9iqpqGq6fpMKS6rf21lHI4jR7mZYwznooLEZJ9K8z03xT4wk8OTaxL9sa2uNDuLz7RcixEcM6xh4zAsTs7J94ESBj93J6irTabq1x4r8EXGoeJr+aeeK4uH2QWyop8lCVUeUSFOSOSWwThhQB6bRXmWjeKdblh8P6jPqwuTr8Vy02n+TGFsCkTyDYQN3yMgjbeWyzDp0pul3vim9sPBPn+KbgS+ILXz7yRLS3Hl4thJiIGMgHJGS27vwBwAD0+ivNvD+veIS3hu91TWPtcepapdaVPbC2jRMQrcbZgQNwcm2BPO35yAoxVfRvGupT+I7BIbzUrrTdY0+5uraXUIbRAdgVkeFYj5gXBIIlXPTnqKAPUaK8ps/FfibSPD2lare6i2tTal4XuNVNq9vHGqXEUULqE2KDhvMIIJPOCMdK1tY1XWdA8IQ31tr0+uT6jPaRLMkVqq26ytgvEMIuGzhfMYgHGSeQQD0Ciua8G3WuzR6hD4ghulEE4FrLem28+SMoCfMFuxQENuwRjIxx3PK2XibW/tUmoSa8LlV8VSaONL8iIL5JnKDkLv3oh353Y2ryDyaAPSra6t7yHzrOeOeLcyb4nDLuVirDI7ggg+hBFS15X4av9Qlg0vQ7PVm0aGeTWLt7qOON3kaO+ZRGvmKygASFm4zgDBHJp3hS51HxJ450nWbrVLi2km8PxyyRW8cQiuAJ2BxuRmCNw3DAjcMGgD1KiiigAooooAKKKKACiiigAooooAKKKKACiiigAooooAKKKKACiiigAooooAKKKKACiiigAooooAKKKKACiiigAooooAKKKKACiiigAooooAKKKKACiiigDlPiBPHc6FLoC3slpcarbyoGj0qe/PlABZCEiI2kGROScc9DXOQ2mnL4mbW7qD7VdXE8VxcyS+C7xpRIiKgMMhBMQxGpwd+Dkg812N3/wAlD0j/ALBd9/6NtK3aAPPtIfStP8TT63cW92bl45IoxY+FLy2+V3VnaQ7GMjnYnzcdDgcmuk/4TDTf+fbWv/BHe/8AxqtsSIZGjDqXUAsoPIB6ZH4GnUAYX/CYab/z7a1/4I73/wCNUf8ACYab/wA+2tf+CO9/+NVu0UAYX/CYab/z7a1/4I73/wCNUf8ACYab/wA+2tf+CO9/+NVu0UAYX/CYab/z7a1/4I73/wCNUf8ACYab/wA+2tf+CO9/+NVu0UAYX/CYab/z7a1/4I73/wCNUf8ACYab/wA+2tf+CO9/+NVu0UAYX/CYab/z7a1/4I73/wCNUf8ACYab/wA+2tf+CO9/+NVu0UAYX/CYab/z7a1/4I73/wCNVFb+JtFtEdbXT9VgV5GlcR6BeKGdjlmOIeSSSSe5NdFRQBx0Vz4OguLqeDw1cRTXiMlzInhi5DTq33g5EGWB7g9au/8ACRaF5tvJ/Zmp77ZSsDf8I/d5iBGCFPk/KCABx6V0lFAHJwan4Wtb65vbXQbyG6ugRcTx+GrpZJgeu5hDlvxqaPXvD8QtBFpOooLJdlqF8PXY8hdu3CfuflG3jAxxxXTUUAcwmueHY1gWPSNQRbeVp4Qvh27Aikbdudf3PDHe+SOTub1NVbW68H2Ny9xY+G7i2nkLM8sPhi5RmLDDEkQZOR19a7GigDmYte8PQfZvJ0nUY/scRhttnh27HkRkAFE/c/KuFXgcfKPSqttd+ELKG6hs/DlzbxXv/H0kXhi5VZ+v3wIPm6nr612FFAHLaZrHhrRbU22jaLf6fAW3GK08OXUSk+uFhAzWVoS+GtGvLi+fTb+51CW8ubhL0+GbtZo1mlaTyw/lE4G8jrz6Cu+ooA5C6vvCV7YrZXvh66uLRJDKsEvhm6eNXJLFgphxkkkk9ck+tS3GreGbu4tJ7vRL6eayObWSXw3dM1ueOUJhyvQdMdK6qigDC/4TDTf+fbWv/BHe/wDxqj/hMNN/59ta/wDBHe//ABqt2igDC/4TDTf+fbWv/BHe/wDxqj/hMNN/59ta/wDBHe//ABqt2igDC/4TDTf+fbWv/BHe/wDxqj/hMNN/59ta/wDBHe//ABqt2igDC/4TDTf+fbWv/BHe/wDxqj/hMNN/59ta/wDBHe//ABqt2igDC/4TDTf+fbWv/BHe/wDxqj/hMNN/59ta/wDBHe//ABqt2igDC/4TDTf+fbWv/BHe/wDxqj/hMNN/59ta/wDBHe//ABqt2igDC/4TDTf+fbWv/BHe/wDxqj/hMNN/59ta/wDBHe//ABqt2igDM0vxBYaxdXFtZ/alntkSSWO6sprdgrlgpAkRcglG6Z6Vp1hWn/JQ9X/7Bdj/AOjbut2gAooooAKKKKACiiigAooooAKKKKACiiigAooooAKKKKACiiigAooooAKKKKACiiigAqpqhvRpk50uSCK6C5je4jaSMeuVVlJ4z3FW6r39q97YS20V3NZtIu0TwBC6fTerL7cg0AZ2jahqGt+CNN1KE20F/fWMNxl42aJHdFY/LuBIGTgbvxpvhbVrvVrS9N81vMbW8e2S6tY2SK5ChcsqlmIwxZD8x5Q81BbeETa+Eh4fj17VhbraC0jnBhWaJAAAVZYhhgo25x79ea0dD0gaHpcdgl5NdRQgLEZo4k8tAAAgESIuBj0zz1oAyn1Kxu/idYWtpe289xa6ZeieGKVWeEmW1wGAOVzg9fSumrCu/wDkoekf9gu+/wDRtpW7QBzetf8AEn8UadrS8QXOLC89AGOYnP0bjPo1dJVLWNMi1nRrrT5+EuIym7+6ezD3Bwfwqp4X1OXU9Bia84vbdmtrtfSVDhvz6/Q1q/egn20/yMY+7Ua76/5/16mxRRRWRsFFFFABRRRQAUUUUAFFFFABRRRQAUUUUAFFFFABRRRQAUUUUAFFFFABRRRQAUUUUAFFFFABRRRQAUUUUAFFFFABRRRQAUUUUAYVp/yUPV/+wXY/+jbut2sK0/5KHq//AGC7H/0bd1u0AFFFFABRRRQAUUUUAFFFFABRRRQAUUUUAFFFFABRRRQAUUUUAFFFFABRRRQAUUUUAFFFFABRRRQBhXf/ACUPSP8AsF33/o20rdrCu/8Akoekf9gu+/8ARtpW7QAVzX/IF8d/3bTXI/wW5jH6bk/MrXS1j+KdNl1PQZBZ8Xtsy3No3pKhyv58j6GtKbV7PZ6GVVPlut1qbFFUtH1OLWNHtdQt+EuIw+3+6e6n3ByPwq7UNNOzNE01dBRRRSGFFFFABRRRQAUUUUAFFFFABRRRQAUUUUAFFFFABRRRQAUUUUAFFFFABRRRQAUUUUAFFFFABRRRQAUUUUAFFFFABRRRQBhWn/JQ9X/7Bdj/AOjbut2sK0/5KHq//YLsf/Rt3W7QAUUUUAFFFFABRRRQAUUUUAFFFFABRRRQAUUUUAFFFFABRRRQAUUUUAFFFFABRRRQAVW1G8bT9Pmuo7Se8aMZEFvt8x+ccbmVffkirNVtR+1/2bONOhhmuSuI455jEhJ9WCsRx/smgCvaazHf+GrfWrK2uJorm1S6it1C+aysoYLgnbuwcdce9O0PV4te0S21O3hmgjuFLCKcKHTBIIO0kZyOxNZnhmz1zR/B9hpt3aae11YWCW6eVeuUldFCrljECoOMk4JHoak8GadqmkeGYNP1qK0jngZgptLhpldSd2SWRCDkkYwemc84AAt3/wAlD0j/ALBd9/6NtK3a5l9NsbT4nWF1aWVvBcXWmXpnmiiVXmIltcFiBlsZPX1rpqACiiigDm9E/wCJP4o1HRW4guM39n6AMcSoPo/OPRq6Sud8XwyW9nba5aqWn0iXzyF6vCRiVf8Avnn6qK34Zo7iCOaFg8cihkYdGBGQa1qe8lP+rmNP3W4dvyY+iiisjYKKKKACiiigAooooAKKKKACiiigAooooAKKKKACiiigAooooAKKKKACiiigAooooAKKKKACiiigAooooAKKKKACiiigDCtP+Sh6v/2C7H/0bd1u1hWn/JQ9X/7Bdj/6Nu63aACiiigAooooAKKKKACiiigAooooAKKKKACiiigAooooAKKKKACiiigAooooAKKKKAK2nX9vqmm299ZuXguIxJGSMHBGeQeh9QehqzXlHgnT7GLxHpV3ZaHpkN5MHa8it/Dotf7OBiblLgKN3zYj6neHLDjNer0AFFFFAGFd/wDJQ9I/7Bd9/wCjbSt2sK7/AOSh6R/2C77/ANG2lbtABRRRQAjoskbJIoZWGGBHBFc74RdrFb3w/OxL6XLthLHlrd/mjP4DK/8AAa6Oua8Q/wDEo13TdfXiIN9ivT/0yc/Ix/3Xx+DGtafvJw7/AJ/1oY1Pdan2/L+tTpaKKKyNgooooAKKKKACiiigAooooAKKKKACiiigAooooAKKKKACiiigAooooAKKKKACiiigAooooAKKKKACiiigAooooAKKKKAMK0/5KHq//YLsf/Rt3W7WFaf8lD1f/sF2P/o27rdoAKKKKACiiigAooooAKKKKACiiigAooooAKKKKACiiigAooooAKKKKACiiigAoorJ8S2eoX2i+Xo/km8jubadFnmaJHEc6SMpdVYjKqR909aAOR8AyNDFpNpJqHixHjh2NYahpXl2yEIfl837MuFGPl+cdFGP4a729vrTTbOS71G5htLaIZkmnkCIg6ZLHgVyWk6V4t+36Yur2+lxWtpqV1fSywanLNIyyi42xhGgQEKZlGS3ROnauo1aeK20m4muIpZY1TJSG3eZye2EQFjzjoPegCZby1ewF6lzC1o0XnC4EgMZTGd27ptxznpim2Go2Wq2a3emXlveWzkhZreVZEbBwcMCR1rhbZZ7/wCDFhpsNhf/AGu3021E9pPZSws4i8vzYsOoySFZQO+eOK3/AAoJJr3XtRFvcW1rf36y26XEDQuwW3iRnKOAy5ZG6gZxnvQBNd/8lD0j/sF33/o20rdrmXtZoPidYTSX9xcJNpl6UglWMJBiW14UqgY5/wBot0rpqACiiigAqrqVhDqul3NhdDMVxG0bewI6/UdatUU02ndCaTVmYnhO/mvNDEN8c31jI1pde7pxu/4EMN+Nbdc3P/xJfHUNx9211pBBJ6LcIMof+BLlf+AiukrSolfmWz1M6TduV7rQKKKKyNQooooAKKKKACiiigAooooAKKKKACiiigAooooAKKKKACiiigAooooAKKKKACiiigAooooAKKKKACiiigAooooAwrT/AJKHq/8A2C7H/wBG3dbtYVp/yUPV/wDsF2P/AKNu63aACiiigAooooAKKKKACiiigAooooAKKKKACiiigAooooAKKKKACiiigAooooAKrahay3ljJBb31xYSPjbc2yxmRMEHgSKy84xyp4PY81ZooA878MXHiaTWNHj1DVdfuZRv/ta1vdLhgt4v3bY2zLAokxJtA2Oc9eACK9Ery74faZcGaxmW90xrI3X9oLJDds91cubNYGWWMqNjEhpH+ZsNx2zXqNABRRRQBhXf/JQ9I/7Bd9/6NtK3awrv/koekf8AYLvv/RtpW7QAUUUUAFFFFAGV4k0t9X0Ge3gbZcriW2f+5Kh3IfzH5E1LoWqLrWh2t+i7DMnzp/cccMv4MCPwrQrmtM/4k3jG+0s/LbaiDf2voH4Ey/ntbHua1j70HHtr/mYy92al30/yOlooorI2CiiigAooooAKKKKACiiigAooooAKKKKACiiigAooooAKKKKACiiigAooooAKKKKACiiigAooooAKKKKACiiigDCtP+Sh6v8A9gux/wDRt3W7WFaf8lD1f/sF2P8A6Nu63aACiiigAooooAKKKKACiiigAooooAKKKKACiiigAooooAKKKKACiiigAooooAKKKKAPK/C1hrFt4z06S+0qG0Mh8ySG30RIooIntdxP2gLwyzFo9m7cRg9M59UryDRtY8Lw+J9Ov11LwppKWbyNK1v4lNy0ymNk2bGVVHzMrbs5G3GOTXofjX7T/wAINrP2HzfP+xybfJzvxtOduOd2M4xznGKANyivP9C/sm4g8T2HhjULWw0m6j2WM1myiOOXyMSvEAcHbmMnbxuznnNL8OB/xN9X/s+PSo9JW2tEj/seUy2z3A83zWDbVBcqYt2AcfKCSQaAOiu/+Sh6R/2C77/0baVu1zLyXzfE6wW7treK3XTL3yJIrhneQeba53KUAXt0ZvwrpqACiiigAooooAKwPF9tKNLi1WzQtd6TKLqMDq6AYkT8UJ/HFb9BAIIIyD1BqoS5ZJkzjzRaIrW5ivLOG6tnDwzIJEYd1IyDUtc34VJ0y51Dw7IeLGTzbXP8VvISV+u07l/AV0lOceWVkKnLmjdhRRRUFhRRRQAUUUUAFFFFABRRRQAUUUUAFFFFABRRRQAUUUUAFFFFABRRRQAUUUUAFFFFABRRRQAUUUUAFFFFAGFaf8lD1f8A7Bdj/wCjbut2sK0/5KHq/wD2C7H/ANG3dbtABRRRQAUUUUAFFFFABRRRQAUUUUAFFFFABRRRQAUUUUAFFFFABRRRQAUUUUAFVdR1GHS7Rbi5DlGmigAQZJaSRY1/8ecVaqtqOn2uq2Elnfx+ZBJjcoYqQQQQQwIKkEAgggggEUAef6B/o/irTdIkuru403R7mWz0+4FnHGsk6wPujeQSFnKxl8ny0UspySRz6TXJaLdeDXudP03RbmOeS0mlmtdkskuZWV/McyEkOxDyZZiSdx5ya62gAooooAwrv/koekf9gu+/9G2lbtYV3/yUPSP+wXff+jbSt2gAooooAKKKKACiiigDm/E//Eq1DTvEScJav9nvCO8EhAyf91trfnXSVDe2kN/Yz2lyu+GeNo3X1BGDWP4Ru5pNIbT75t17pchtJierbfuP/wACUqfzrV+9Tv2/IxXu1Ld/zN6iiisjYKKKKACiiigAooooAKKKKACiiigAooooAKKKKACiiigAooooAKKKKACiiigAooooAKKKKACiiigAooooAwrT/koer/8AYLsf/Rt3W7WFaf8AJQ9X/wCwXY/+jbut2gAooooAKKKKACiiigAooooAKKKKACiiigAooooAKKKKACiiigAooooAKKKKACiiorm6gs4fNupVij3qgZjgFmYKo+pYgD3NAHA+Axqluul2t/P4mh8qLY9lPY26WUeEPyq4j8wIP4cvnhQe4r0OvMND0/To/iJYwR6b4d0e+055DImnTyzPLuhYGLLQxoCA6ueSwA6AEmu58VanPo3hLU9QtAv2i3tneIuMqGxwSO4B5PsKANaiuStdU1DTYfEtpe6mLt9KgW4hvryNE2hoi2JBGqjCspOQAdpHUjJi8C6trF7eX1prz3gkitrWdItQjhWYeYJNzDyRs8slMKD84KtuxxQBq3f/ACUPSP8AsF33/o20rdrmXuppvidYQyWFxbpDpl6EnlaMpPmW15UK5YY/2gvWumoAKKKKACiiigAooooAK5q//wCJL41s9QHy2urKLK49BMuTE34jcv5V0tZ3iDShrWhXNkG2SOu6GT+5IpyjfgwFaU5JSs9mZ1Itxut1qaNFZnh3VTrOg215IuycqUnj/uSqdrr+YNadRKLi7MuMlJJoKKKKQwooooAKKKKACiiigAooooAKKKKACiiigAooooAKKKKACiiigAooooAKKKKACiiigAooooAKKKKAMK0/5KHq/wD2C7H/ANG3dbtYVp/yUPV/+wXY/wDo27rdoAKKKKACiiigAooooAKKKKACiiigAooooAKKKKACiiigAooooAKKKKACiiigAqjrOlprOlvZvNJbnzI5Y5osbo5I3WRGAIIOGVTggg1eooA5/T/CUFglhm8nnltL6bUJJpAoa4mlSRWLYAAAErYAAwAo7Vt3VrBfWc1peRLNbzxtHLG4yrqwwQR6EGpaKAMiz8L6TY201vDBK8dxu88T3Ms3n7lCHzC7Ev8AKoUbs4AwMVJpHh7TdCMradFKHmVFeSe4kncqmdq7pGYhRubCg4GTxya06KAMK7/5KHpH/YLvv/RtpW7WFd/8lD0j/sF33/o20rdoAKKKKACiiigAooooAKKKKAObs/8AiS+N7myPy2usIbqD0E6gCVfxG1vwNdJWF4usprjRReWK5vtNkF3bj+8V+8v/AAJdw/GtWwvYdS0+3vbVt0NxGsiH2IzWs/eip/L+vkYw92Th81/XqWKKKKyNgooooAKKKKACiiigAooooAKKKKACiiigAooooAKKKKACiiigAooooAKKKKACiiigAooooAKKKKAMK0/5KHq//YLsf/Rt3W7WFaf8lD1f/sF2P/o27rdoAKKKKACiiigAooooAKKKKACiiigAooooAKKKKACiiigAooooAKKKKACiiigAooooAKKKo61qkWiaHe6nOjSJaQtKY0+8+Bwo9yePxoAvUVi6RrV7ftqNpe2ENrqdiV3QJdGSJw6bkIk2A4JyD8vBU9RjMfh/XNR1XVNWstR061tTpskcRltbxp1d2Tey/NGmCqtGe/3vagBbv/koekf9gu+/9G2lbtcy+pWN38TrC1tL23nuLXTL0TwxSqzwky2uAwByucHr6V01ABRRRQAUUUUAFFFFABRRRQAVzfhr/iU6tqPh5+I4X+12Q/6YSEkqP919w/EV0lc34sU6dJYeIYgc6dJtucfxW74D/XB2t/wE1rT1vDv+fT/L5mNXS0+35df8/kdJRUVtdW95CJrSeOeI9HicMp/EVLWWxtuFFFFABRRRQAUUUUAFFFFABRRRQAUUUUAFFFFABRRRQAUUUUAFFFFABRRRQAUUUUAFFFFABRRRQBhWn/JQ9X/7Bdj/AOjbut2sK0/5KHq//YLsf/Rt3W7QAUUUUAFFFFABRRRQAUUUUAFFFFABRRRQAUUUUAFFFFABRRRQAUUUUAFFFFABRRRQAVR1rS4tb0O90yd2jS7haIyJ95Mjhh7g8/hV6igDE0XRb/T766vtQ1C3vLq9ZTcNHaGJdqKFRUBkbaB8xOS2Sx6DirGg6P8A2LYSwvP9pnnuZrmefZt3vI5bpk4ABCjnoorTooAwrv8A5KHpH/YLvv8A0baVu1hXf/JQ9I/7Bd9/6NtK3aACiiigAooooAKKKKACiiigApGUOpVwGUjBBGQRS0UAYNz4M0WaYz21s2n3J/5b2Ehgb/x3AP4g1F/ZnibTv+QdrUOoRjpDqUOGx/10jx+qmujorX2s+uvrqZexhutPTQ5z/hJr6x413w/e26jrPaYuo8ep2/MPxWtHTfEWkaudunajBO/eMPhx9VPI/KtKs/UtA0nWB/xMtPt7huzug3j6N1H4GjmpvdW9P+D/AJhy1I7O/r/mv8jQornP+EWurLnQdevrMDpBcEXMQHoA/wAw/BqP7Q8Uad/x/wCk22pxDrLp02x8f9c5Op+jUezT+F/p/X3h7Rr4ov8AP/g/gdHRWBB400Z5hBezSaZcH/ljqERgP5t8p/Amt2ORJYw8Tq6MMhlOQaiUJR+JFRnGXwsdRRRUlhRRRQAUUUUAFFFFABRRRQAUUUUAFFFFABRRRQAUUUUAFFFFABRRRQBhWn/JQ9X/AOwXY/8Ao27rdrCtP+Sh6v8A9gux/wDRt3W7QAUUUUAFFFFABRRRQAUUUUAFFFFABRRRQAUUUUAFFFFABRRRQAUUUUAFFFFABRRRQAUUUUAFFFFAGFd/8lD0j/sF33/o20rdrCu/+Sh6R/2C77/0baVu0AFFFFABRRRQAUUUUAFFFFABRRRQAUUUUAFFFFABRRRQBHPbw3UJiuYY5o26pIoYH8DWFJ4K0tJDLpTXOkSk5LWE5jU/VOVP5V0NFXGco7MiUIy+JHOfZ/Fmnf8AHve2OsRD+C6jNvL9AyZU/iopR4ovIfkvvDGrJKOot0SZPwYNz+VdFRVe0T+KK/L8ifZtfDJ/n+Zz3/CWv/0Lmu/+Aq//ABdH/CWv/wBC5rv/AICr/wDF10NFHND+X8Q5J/zfgc9/wlr/APQua7/4Cr/8XR/wlr/9C5rv/gIv/wAVXQ0Uc0P5fxDkn/N+Bz3/AAlr/wDQua7/AOAi/wDxVH/CWv8A9C5rv/gIv/xVdDRRzQ/l/EOSf834HPf8Ja3/AELmu/8AgIv/AMVR/wAJa3/Qua7/AOAi/wDxVdDRRzQ/l/EOSf8AN+Bz3/CWt/0Lmu/+Ai//ABVH/CWt/wBC5rv/AICL/wDFV0NFHND+X8Q5J/zfgc9/wlrf9C5rv/gIv/xVH/CWt/0Lmu/+Ai//ABVdDRRzQ/l/EOSf834HPf8ACWt/0Lmu/wDgIv8A8VR/wlrf9C5rv/gIv/xVdDRRzQ/l/EOSf834HPf8Ja3/AELmu/8AgIv/AMVR/wAJa3/Qua7/AOAi/wDxVdDRRzQ/l/EOSf8AN+Bz3/CWt/0Lmu/+Ai//ABVH/CWt/wBC5rv/AICL/wDFV0NFHND+X8Q5J/zfgZml6ydTlkQ6XqNlsXO67hCBvYYJ5rToorOTTeiNIppaswrT/koer/8AYLsf/Rt3W7WFaf8AJQ9X/wCwXY/+jbut2kMKKKKACiiigAooooAKKKKACiiigAooooAKKKKACiiigAooooAKKKKACiiigAooooAKKKKACiiigChqehaRrRiOsaVZagYd3lG6t0l8vOM43A4zgZx6CqP/AAg3hP8A6FfRf/BfF/8AE1u1yXjn7B52h/8ACQ/Z/wCw/tr/AGz7XjyM+RJ5fmbvl27sYzxu2d8UAPi+HfhpNeurx/D+jtbTW0MUcH2CPCOjSlmxtx8wdB/wD6Vd/wCEG8J/9Cvov/gvi/8Aia5Hz7eT4f8AhuLWpUfTIryIail0wIS1KyGDzg3RSfIJ3fj3rqPAf/IoxeXn7N9quvsfp9m+0SeTj/Z8vZt/2cUATf8ACDeE/wDoV9F/8F8X/wATR/wg3hP/AKFfRf8AwXxf/E1u0UAYX/CDeE/+hX0X/wAF8X/xNUtJ+Hfhqys5Irvw/o9xI1zPKHNhGcI8zui8r/CrKv4cVz3jT7N/wlN99r8v+1vIsf7B3/f8zzn3+T3znbvx/Bt3fLUvjqTSU1a08QC60LUbm3smFrpd5Cs0t4fMBH2c7shyV2ghW5NAHU/8IN4T/wChX0X/AMF8X/xNH/CDeE/+hX0X/wAF8X/xNbtFAGF/wg3hP/oV9F/8F8X/AMTR/wAIN4T/AOhX0X/wXxf/ABNbtcJoupeG9P8Aij4nhtL/AEy3mltbSS4RJ41ZphJceYWGc7huQHPIyvtQBo6N8O/DWn6DYWd74f0e6ube2jimnawjJldVAZslc8kE8+tXf+EG8J/9Cvov/gvi/wDia5Gz+zf8J9Bt8v8A4SL+3Lj7Xj/XfYfIk8vd38rHk4/h3475r0ugDC/4Qbwn/wBCvov/AIL4v/iaP+EG8J/9Cvov/gvi/wDia3agvRbNp9wuoeWLQxMJzKQE2Y+bcT0GM5oA5zVvh34avbOOK08P6PbyLcwSlxYRjKJMjuvC/wASqy/jzV3/AIQbwn/0K+i/+C+L/wCJrA8AaloU3gOax03UtPWFLrUI0SCZCsSfaJWGFB4AQhh/s4PSl+Gi2NjHd6PpR0e9trK3tv8AiaaPbiKO5ch1KvhmDSKEDE7jxIOB3AN7/hBvCf8A0K+i/wDgvi/+Jo/4Qbwn/wBCvov/AIL4v/ia3aKAML/hBvCf/Qr6L/4L4v8A4mqUvw78NPr1reJ4f0dbaG2mikg+wR4d3aIq2NuPlCOP+B/Wl+IGo+H9N0KKTxJaWN75k4is7a/KCOScg4yX+VQBklj0APU4Bx9Q+wQeA/D9jeapa6pplrNaJqlx5oeJ4dh2s5yf3ZcR/eONvUkZoA6T/hBvCf8A0K+i/wDgvi/+Jo/4Qbwn/wBCvov/AIL4v/iag8B4/wCEVHkf8ef2y6+xY6fZ/Pfytv8AsbMbe23biukoAwv+EG8J/wDQr6L/AOC+L/4mj/hBvCf/AEK+i/8Agvi/+JrdrgPGdz4dm8YaZpjyaba660kFw1/cSJHLbQJLkKjE5LSEMgVexYngYIBq2Pw78NW15qUs/h/R5o7q5EsCGwjPkoIY0KjK8fMjNx/e+tXf+EG8J/8AQr6L/wCC+L/4muW8fSaSNQtNfN3oV/cWllKLXS76FZ3vSXU4gO7IfMe0EK3J6V6MOR0x7UAYX/CDeE/+hX0X/wAF8X/xNH/CDeE/+hX0X/wXxf8AxNbtFAGF/wAIN4T/AOhX0X/wXxf/ABNUtG+HfhrT9BsLO98P6PdXNvbRxTTtYRkyuqgM2SueSCefWsjXpNHi+JGlXdpdaSLyK5xfRW8arfAeTIC8sgbPkhduVZQOFO7oDT1p7STxncu7RNrranpp0hsgymzzF5xj77Mfad+OMde1AHYf8IN4T/6FfRf/AAXxf/E0f8IN4T/6FfRf/BfF/wDE1u0UAYX/AAg3hP8A6FfRf/BfF/8AE1S1b4d+Gr2zjitPD+j28i3MEpcWEYyiTI7rwv8AEqsv4811LsqIzOcKBkk9hXn/AIOl0e18aaqNGu9IfT7iCEQnSEWG3V98uI3AZg8+3ncCCVA+UYGQDpP+EG8J/wDQr6L/AOC+L/4mj/hBvCf/AEK+i/8Agvi/+JrmvAaafpniK40zSpdF1RZYZrmbUdNtwksTecCIp2DNuY+YxH3T+7bivQqAML/hBvCf/Qr6L/4L4v8A4mj/AIQbwn/0K+i/+C+L/wCJrdrlvHw1GbQhZ2Om3N9aXG4X32WSJXEIUnb+8dBhjhTgk7d3cg0AJL8O/DT69a3ieH9HW2htpopIPsEeHd2iKtjbj5Qjj/gf1q7/AMIN4T/6FfRf/BfF/wDE1yQvLO6+G3hBdWEcWmxGzXVobl0KpF5DbPNwSoQyeSeeMEZ7iun8B/8AIoxeXn7N9quvsfp9m+0SeTj/AGfL2bf9nFAGppmhaRoplOj6VZaeZtvmm1t0i8zGcZ2gZxk4z6mr9FFABRRRQAUUUUAFFFFABRRRQAUUUUAFFFFABRRRQAUUUUAFFFFABRRRQAUUUUAFFFFABRRRQAUUUUAFFFFABRRRQAUUUUAFFFFABRRRQAUUUUAFFFFABRRRQAUUUUAVtR1C20nS7rUdQk8q0s4Xnnk2ltiIpZjgAk4APA5p9veW9286W0qyNby+VKF/gfAO0++GB/Gsvxnp9zq3gPX9O0+Lzbu8024ggj3Bd7vEyqMkgDJI5PFcZqvgu7e411bLRTH9s1ZL2W4tltd17blE3RfvMgsHBcrIu04685oA9NqG7vLexhWW7lWKNpY4gzd3dwiL9SzKPxrhNF8FtBqmlXEumTPBYWV0bdNVMDm3nadHj+WH5FxtJXYPlHAI6Vztp4G1mSxvUvfD26CT+zLiSykSyVJZ4brfOI0jwgBjyoMh3MDhjQB7BHMsryoocGJ9jbkZQTtDcEjDDBHIyM5HUEB9ecXHhe8bUrq5uPDf27SX1MTjSN0HzJ/Z9vCjbWcR/I8brtJ4+8M4GasXgTVRaPcXtklzqtvZ6YlpcmVXeOSGRml2OxyCFIBbgsPXpQB6jRRRQAUUUUAFFFFABRRRQAUUUUAFFFFABRRRQAUUUUAFFFFABRRRQAUUUUAFFFFABRRRQAUUUUAFFFFABRRRQAUUUUAFFFFABRRRQAUUUUAFFFFABRRRQAUUUUAFFFFABRRRQAUUUUAFFFFABRRRQAUUUUAFFFFABRRRQAUUUUAFFFFABRRRQAUUUUAFFFFABRRRQAUUUUAFFFFABRRRQAUUUUAFFFFABRRRQAUUUUAFFFFABRRRQAUUUUAFFFFABRRRQAUUUUAFFFFABRRRQAUUUUAFFFFABRRRQAUUUUAf/9k=)"
      ]
    },
    {
      "cell_type": "code",
      "metadata": {
        "colab": {
          "base_uri": "https://localhost:8080/",
          "height": 151
        },
        "id": "5842BtR6OKAc",
        "outputId": "bdbeb1c8-c484-47b1-fa9d-fa60bc71efc3"
      },
      "source": [
        "\n",
        "import numpy as np\n",
        "from matplotlib import pyplot as plt\n",
        "with open('/content/drive/MyDrive/mnist.csv', 'r') as f:\n",
        "    fig = plt.figure()\n",
        "    for index in range(10):\n",
        "        plt.subplot(5,5, index+1)\n",
        "        mean = [255*i//1 for i in list(map(float, f.readline().split(',')))]\n",
        "        pixels = np.array(mean, dtype='uint8')\n",
        "        pixels = pixels.reshape((28, 28))\n",
        "        plt.axis('off')\n",
        "        plt.title('{}-th Mean'.format(index+1))\n",
        "        plt.imshow(pixels, cmap='gray')\n",
        "        if index == 4:\n",
        "          plt.show()\n",
        "    plt.show()"
      ],
      "execution_count": 16,
      "outputs": [
        {
          "output_type": "display_data",
          "data": {
            "image/png": "[encoded data removed]",
            "text/plain": [
              "<Figure size 432x288 with 5 Axes>"
            ]
          },
          "metadata": {
            "tags": [],
            "needs_background": "light"
          }
        },
        {
          "output_type": "display_data",
          "data": {
            "image/png": "[encoded data removed]",
            "text/plain": [
              "<Figure size 432x288 with 5 Axes>"
            ]
          },
          "metadata": {
            "tags": [],
            "needs_background": "light"
          }
        }
      ]
    }
  ]
}